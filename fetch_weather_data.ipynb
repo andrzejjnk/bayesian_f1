{
 "cells": [
  {
   "cell_type": "code",
   "execution_count": 4,
   "metadata": {},
   "outputs": [
    {
     "name": "stdout",
     "output_type": "stream",
     "text": [
      "Requirement already satisfied: fastf1 in c:\\users\\arkre\\appdata\\local\\programs\\python\\python310\\lib\\site-packages (3.3.7)\n",
      "Requirement already satisfied: matplotlib<4.0.0,>=3.5.1 in c:\\users\\arkre\\appdata\\local\\programs\\python\\python310\\lib\\site-packages (from fastf1) (3.8.3)\n",
      "Requirement already satisfied: pandas<3.0.0,>=1.4.1 in c:\\users\\arkre\\appdata\\local\\programs\\python\\python310\\lib\\site-packages (from fastf1) (1.5.1)\n",
      "Requirement already satisfied: timple>=0.1.6 in c:\\users\\arkre\\appdata\\local\\programs\\python\\python310\\lib\\site-packages (from fastf1) (0.1.8)\n",
      "Requirement already satisfied: thefuzz in c:\\users\\arkre\\appdata\\local\\programs\\python\\python310\\lib\\site-packages (from fastf1) (0.22.1)\n",
      "Requirement already satisfied: numpy<2.0.0,>=1.21.5 in c:\\users\\arkre\\appdata\\local\\programs\\python\\python310\\lib\\site-packages (from fastf1) (1.24.4)\n",
      "Requirement already satisfied: websockets>=10.3 in c:\\users\\arkre\\appdata\\local\\programs\\python\\python310\\lib\\site-packages (from fastf1) (12.0)\n",
      "Requirement already satisfied: requests>=2.28.1 in c:\\users\\arkre\\appdata\\local\\programs\\python\\python310\\lib\\site-packages (from fastf1) (2.28.1)\n",
      "Requirement already satisfied: scipy<2.0.0,>=1.7.3 in c:\\users\\arkre\\appdata\\local\\programs\\python\\python310\\lib\\site-packages (from fastf1) (1.8.0)\n",
      "Requirement already satisfied: requests-cache>=1.0.0 in c:\\users\\arkre\\appdata\\local\\programs\\python\\python310\\lib\\site-packages (from fastf1) (1.2.0)\n",
      "Requirement already satisfied: python-dateutil in c:\\users\\arkre\\appdata\\roaming\\python\\python310\\site-packages (from fastf1) (2.9.0.post0)\n",
      "Requirement already satisfied: contourpy>=1.0.1 in c:\\users\\arkre\\appdata\\local\\programs\\python\\python310\\lib\\site-packages (from matplotlib<4.0.0,>=3.5.1->fastf1) (1.2.0)\n",
      "Requirement already satisfied: fonttools>=4.22.0 in c:\\users\\arkre\\appdata\\local\\programs\\python\\python310\\lib\\site-packages (from matplotlib<4.0.0,>=3.5.1->fastf1) (4.50.0)\n",
      "Requirement already satisfied: pillow>=8 in c:\\users\\arkre\\appdata\\local\\programs\\python\\python310\\lib\\site-packages (from matplotlib<4.0.0,>=3.5.1->fastf1) (10.2.0)\n",
      "Requirement already satisfied: cycler>=0.10 in c:\\users\\arkre\\appdata\\local\\programs\\python\\python310\\lib\\site-packages (from matplotlib<4.0.0,>=3.5.1->fastf1) (0.12.1)\n",
      "Requirement already satisfied: kiwisolver>=1.3.1 in c:\\users\\arkre\\appdata\\local\\programs\\python\\python310\\lib\\site-packages (from matplotlib<4.0.0,>=3.5.1->fastf1) (1.4.5)\n",
      "Requirement already satisfied: pyparsing>=2.3.1 in c:\\users\\arkre\\appdata\\local\\programs\\python\\python310\\lib\\site-packages (from matplotlib<4.0.0,>=3.5.1->fastf1) (3.1.2)\n",
      "Requirement already satisfied: packaging>=20.0 in c:\\users\\arkre\\appdata\\roaming\\python\\python310\\site-packages (from matplotlib<4.0.0,>=3.5.1->fastf1) (24.0)\n",
      "Requirement already satisfied: pytz>=2020.1 in c:\\users\\arkre\\appdata\\local\\programs\\python\\python310\\lib\\site-packages (from pandas<3.0.0,>=1.4.1->fastf1) (2022.6)\n",
      "Requirement already satisfied: six>=1.5 in c:\\users\\arkre\\appdata\\roaming\\python\\python310\\site-packages (from python-dateutil->fastf1) (1.16.0)\n",
      "Requirement already satisfied: certifi>=2017.4.17 in c:\\users\\arkre\\appdata\\local\\programs\\python\\python310\\lib\\site-packages (from requests>=2.28.1->fastf1) (2022.12.7)\n",
      "Requirement already satisfied: charset-normalizer<3,>=2 in c:\\users\\arkre\\appdata\\local\\programs\\python\\python310\\lib\\site-packages (from requests>=2.28.1->fastf1) (2.1.1)\n",
      "Requirement already satisfied: urllib3<1.27,>=1.21.1 in c:\\users\\arkre\\appdata\\local\\programs\\python\\python310\\lib\\site-packages (from requests>=2.28.1->fastf1) (1.26.13)\n",
      "Requirement already satisfied: idna<4,>=2.5 in c:\\users\\arkre\\appdata\\local\\programs\\python\\python310\\lib\\site-packages (from requests>=2.28.1->fastf1) (3.4)\n",
      "Requirement already satisfied: attrs>=21.2 in c:\\users\\arkre\\appdata\\local\\programs\\python\\python310\\lib\\site-packages (from requests-cache>=1.0.0->fastf1) (23.2.0)\n",
      "Requirement already satisfied: url-normalize>=1.4 in c:\\users\\arkre\\appdata\\local\\programs\\python\\python310\\lib\\site-packages (from requests-cache>=1.0.0->fastf1) (1.4.3)\n",
      "Requirement already satisfied: platformdirs>=2.5 in c:\\users\\arkre\\appdata\\roaming\\python\\python310\\site-packages (from requests-cache>=1.0.0->fastf1) (4.2.1)\n",
      "Requirement already satisfied: cattrs>=22.2 in c:\\users\\arkre\\appdata\\local\\programs\\python\\python310\\lib\\site-packages (from requests-cache>=1.0.0->fastf1) (23.2.3)\n",
      "Requirement already satisfied: rapidfuzz<4.0.0,>=3.0.0 in c:\\users\\arkre\\appdata\\local\\programs\\python\\python310\\lib\\site-packages (from thefuzz->fastf1) (3.9.2)\n",
      "Requirement already satisfied: typing-extensions!=4.6.3,>=4.1.0 in c:\\users\\arkre\\appdata\\roaming\\python\\python310\\site-packages (from cattrs>=22.2->requests-cache>=1.0.0->fastf1) (4.11.0)\n",
      "Requirement already satisfied: exceptiongroup>=1.1.1 in c:\\users\\arkre\\appdata\\roaming\\python\\python310\\site-packages (from cattrs>=22.2->requests-cache>=1.0.0->fastf1) (1.2.1)\n",
      "Note: you may need to restart the kernel to use updated packages.\n"
     ]
    },
    {
     "name": "stderr",
     "output_type": "stream",
     "text": [
      "\n",
      "[notice] A new release of pip is available: 23.0.1 -> 24.0\n",
      "[notice] To update, run: python.exe -m pip install --upgrade pip\n"
     ]
    }
   ],
   "source": [
    "pip install fastf1"
   ]
  },
  {
   "cell_type": "code",
   "execution_count": 5,
   "metadata": {},
   "outputs": [],
   "source": [
    "import fastf1\n",
    "import pandas as pd\n",
    "import os\n",
    "import logging"
   ]
  },
  {
   "cell_type": "code",
   "execution_count": 9,
   "metadata": {},
   "outputs": [
    {
     "name": "stdout",
     "output_type": "stream",
     "text": [
      "Sakhir, Year: 2022\n"
     ]
    },
    {
     "name": "stderr",
     "output_type": "stream",
     "text": [
      "Request for URL https://ergast.com/api/f1/2022/2/laps/1.json failed; using cached response\n",
      "Traceback (most recent call last):\n",
      "  File \"c:\\Users\\arkre\\AppData\\Local\\Programs\\Python\\Python310\\lib\\site-packages\\requests_cache\\session.py\", line 285, in _resend\n",
      "    response = self._send_and_cache(request, actions, cached_response, **kwargs)\n",
      "  File \"c:\\Users\\arkre\\AppData\\Local\\Programs\\Python\\Python310\\lib\\site-packages\\requests_cache\\session.py\", line 253, in _send_and_cache\n",
      "    response = super().send(request, **kwargs)\n",
      "  File \"c:\\Users\\arkre\\AppData\\Local\\Programs\\Python\\Python310\\lib\\site-packages\\fastf1\\req.py\", line 125, in send\n",
      "    lim.limit()\n",
      "  File \"c:\\Users\\arkre\\AppData\\Local\\Programs\\Python\\Python310\\lib\\site-packages\\fastf1\\req.py\", line 102, in limit\n",
      "    raise RateLimitExceededError(self._info)\n",
      "fastf1.req.RateLimitExceededError: ergast.com: 200 calls/h\n"
     ]
    },
    {
     "name": "stdout",
     "output_type": "stream",
     "text": [
      "Jeddah, Year: 2022\n"
     ]
    },
    {
     "name": "stderr",
     "output_type": "stream",
     "text": [
      "Request for URL https://ergast.com/api/f1/2022/3/results.json failed; using cached response\n",
      "Traceback (most recent call last):\n",
      "  File \"c:\\Users\\arkre\\AppData\\Local\\Programs\\Python\\Python310\\lib\\site-packages\\requests_cache\\session.py\", line 285, in _resend\n",
      "    response = self._send_and_cache(request, actions, cached_response, **kwargs)\n",
      "  File \"c:\\Users\\arkre\\AppData\\Local\\Programs\\Python\\Python310\\lib\\site-packages\\requests_cache\\session.py\", line 253, in _send_and_cache\n",
      "    response = super().send(request, **kwargs)\n",
      "  File \"c:\\Users\\arkre\\AppData\\Local\\Programs\\Python\\Python310\\lib\\site-packages\\fastf1\\req.py\", line 125, in send\n",
      "    lim.limit()\n",
      "  File \"c:\\Users\\arkre\\AppData\\Local\\Programs\\Python\\Python310\\lib\\site-packages\\fastf1\\req.py\", line 102, in limit\n",
      "    raise RateLimitExceededError(self._info)\n",
      "fastf1.req.RateLimitExceededError: ergast.com: 200 calls/h\n",
      "Request for URL https://ergast.com/api/f1/2022/3/laps/1.json failed; using cached response\n",
      "Traceback (most recent call last):\n",
      "  File \"c:\\Users\\arkre\\AppData\\Local\\Programs\\Python\\Python310\\lib\\site-packages\\requests_cache\\session.py\", line 285, in _resend\n",
      "    response = self._send_and_cache(request, actions, cached_response, **kwargs)\n",
      "  File \"c:\\Users\\arkre\\AppData\\Local\\Programs\\Python\\Python310\\lib\\site-packages\\requests_cache\\session.py\", line 253, in _send_and_cache\n",
      "    response = super().send(request, **kwargs)\n",
      "  File \"c:\\Users\\arkre\\AppData\\Local\\Programs\\Python\\Python310\\lib\\site-packages\\fastf1\\req.py\", line 125, in send\n",
      "    lim.limit()\n",
      "  File \"c:\\Users\\arkre\\AppData\\Local\\Programs\\Python\\Python310\\lib\\site-packages\\fastf1\\req.py\", line 102, in limit\n",
      "    raise RateLimitExceededError(self._info)\n",
      "fastf1.req.RateLimitExceededError: ergast.com: 200 calls/h\n"
     ]
    },
    {
     "name": "stdout",
     "output_type": "stream",
     "text": [
      "Melbourne, Year: 2022\n"
     ]
    },
    {
     "name": "stderr",
     "output_type": "stream",
     "text": [
      "Request for URL https://ergast.com/api/f1/2022/4/results.json failed; using cached response\n",
      "Traceback (most recent call last):\n",
      "  File \"c:\\Users\\arkre\\AppData\\Local\\Programs\\Python\\Python310\\lib\\site-packages\\requests_cache\\session.py\", line 285, in _resend\n",
      "    response = self._send_and_cache(request, actions, cached_response, **kwargs)\n",
      "  File \"c:\\Users\\arkre\\AppData\\Local\\Programs\\Python\\Python310\\lib\\site-packages\\requests_cache\\session.py\", line 253, in _send_and_cache\n",
      "    response = super().send(request, **kwargs)\n",
      "  File \"c:\\Users\\arkre\\AppData\\Local\\Programs\\Python\\Python310\\lib\\site-packages\\fastf1\\req.py\", line 125, in send\n",
      "    lim.limit()\n",
      "  File \"c:\\Users\\arkre\\AppData\\Local\\Programs\\Python\\Python310\\lib\\site-packages\\fastf1\\req.py\", line 102, in limit\n",
      "    raise RateLimitExceededError(self._info)\n",
      "fastf1.req.RateLimitExceededError: ergast.com: 200 calls/h\n",
      "Request for URL https://ergast.com/api/f1/2022/4/laps/1.json failed; using cached response\n",
      "Traceback (most recent call last):\n",
      "  File \"c:\\Users\\arkre\\AppData\\Local\\Programs\\Python\\Python310\\lib\\site-packages\\requests_cache\\session.py\", line 285, in _resend\n",
      "    response = self._send_and_cache(request, actions, cached_response, **kwargs)\n",
      "  File \"c:\\Users\\arkre\\AppData\\Local\\Programs\\Python\\Python310\\lib\\site-packages\\requests_cache\\session.py\", line 253, in _send_and_cache\n",
      "    response = super().send(request, **kwargs)\n",
      "  File \"c:\\Users\\arkre\\AppData\\Local\\Programs\\Python\\Python310\\lib\\site-packages\\fastf1\\req.py\", line 125, in send\n",
      "    lim.limit()\n",
      "  File \"c:\\Users\\arkre\\AppData\\Local\\Programs\\Python\\Python310\\lib\\site-packages\\fastf1\\req.py\", line 102, in limit\n",
      "    raise RateLimitExceededError(self._info)\n",
      "fastf1.req.RateLimitExceededError: ergast.com: 200 calls/h\n",
      "Request for URL https://ergast.com/api/f1/2022/5/results.json failed; using cached response\n",
      "Traceback (most recent call last):\n",
      "  File \"c:\\Users\\arkre\\AppData\\Local\\Programs\\Python\\Python310\\lib\\site-packages\\requests_cache\\session.py\", line 285, in _resend\n",
      "    response = self._send_and_cache(request, actions, cached_response, **kwargs)\n",
      "  File \"c:\\Users\\arkre\\AppData\\Local\\Programs\\Python\\Python310\\lib\\site-packages\\requests_cache\\session.py\", line 253, in _send_and_cache\n",
      "    response = super().send(request, **kwargs)\n",
      "  File \"c:\\Users\\arkre\\AppData\\Local\\Programs\\Python\\Python310\\lib\\site-packages\\fastf1\\req.py\", line 125, in send\n",
      "    lim.limit()\n",
      "  File \"c:\\Users\\arkre\\AppData\\Local\\Programs\\Python\\Python310\\lib\\site-packages\\fastf1\\req.py\", line 102, in limit\n",
      "    raise RateLimitExceededError(self._info)\n",
      "fastf1.req.RateLimitExceededError: ergast.com: 200 calls/h\n"
     ]
    },
    {
     "name": "stdout",
     "output_type": "stream",
     "text": [
      "Imola, Year: 2022\n"
     ]
    },
    {
     "name": "stderr",
     "output_type": "stream",
     "text": [
      "Request for URL https://ergast.com/api/f1/2022/5/laps/1.json failed; using cached response\n",
      "Traceback (most recent call last):\n",
      "  File \"c:\\Users\\arkre\\AppData\\Local\\Programs\\Python\\Python310\\lib\\site-packages\\requests_cache\\session.py\", line 285, in _resend\n",
      "    response = self._send_and_cache(request, actions, cached_response, **kwargs)\n",
      "  File \"c:\\Users\\arkre\\AppData\\Local\\Programs\\Python\\Python310\\lib\\site-packages\\requests_cache\\session.py\", line 253, in _send_and_cache\n",
      "    response = super().send(request, **kwargs)\n",
      "  File \"c:\\Users\\arkre\\AppData\\Local\\Programs\\Python\\Python310\\lib\\site-packages\\fastf1\\req.py\", line 125, in send\n",
      "    lim.limit()\n",
      "  File \"c:\\Users\\arkre\\AppData\\Local\\Programs\\Python\\Python310\\lib\\site-packages\\fastf1\\req.py\", line 102, in limit\n",
      "    raise RateLimitExceededError(self._info)\n",
      "fastf1.req.RateLimitExceededError: ergast.com: 200 calls/h\n",
      "Request for URL https://ergast.com/api/f1/2022/6/results.json failed; using cached response\n",
      "Traceback (most recent call last):\n",
      "  File \"c:\\Users\\arkre\\AppData\\Local\\Programs\\Python\\Python310\\lib\\site-packages\\requests_cache\\session.py\", line 285, in _resend\n",
      "    response = self._send_and_cache(request, actions, cached_response, **kwargs)\n",
      "  File \"c:\\Users\\arkre\\AppData\\Local\\Programs\\Python\\Python310\\lib\\site-packages\\requests_cache\\session.py\", line 253, in _send_and_cache\n",
      "    response = super().send(request, **kwargs)\n",
      "  File \"c:\\Users\\arkre\\AppData\\Local\\Programs\\Python\\Python310\\lib\\site-packages\\fastf1\\req.py\", line 125, in send\n",
      "    lim.limit()\n",
      "  File \"c:\\Users\\arkre\\AppData\\Local\\Programs\\Python\\Python310\\lib\\site-packages\\fastf1\\req.py\", line 102, in limit\n",
      "    raise RateLimitExceededError(self._info)\n",
      "fastf1.req.RateLimitExceededError: ergast.com: 200 calls/h\n"
     ]
    },
    {
     "name": "stdout",
     "output_type": "stream",
     "text": [
      "Miami, Year: 2022\n"
     ]
    },
    {
     "name": "stderr",
     "output_type": "stream",
     "text": [
      "Request for URL https://ergast.com/api/f1/2022/6/laps/1.json failed; using cached response\n",
      "Traceback (most recent call last):\n",
      "  File \"c:\\Users\\arkre\\AppData\\Local\\Programs\\Python\\Python310\\lib\\site-packages\\requests_cache\\session.py\", line 285, in _resend\n",
      "    response = self._send_and_cache(request, actions, cached_response, **kwargs)\n",
      "  File \"c:\\Users\\arkre\\AppData\\Local\\Programs\\Python\\Python310\\lib\\site-packages\\requests_cache\\session.py\", line 253, in _send_and_cache\n",
      "    response = super().send(request, **kwargs)\n",
      "  File \"c:\\Users\\arkre\\AppData\\Local\\Programs\\Python\\Python310\\lib\\site-packages\\fastf1\\req.py\", line 125, in send\n",
      "    lim.limit()\n",
      "  File \"c:\\Users\\arkre\\AppData\\Local\\Programs\\Python\\Python310\\lib\\site-packages\\fastf1\\req.py\", line 102, in limit\n",
      "    raise RateLimitExceededError(self._info)\n",
      "fastf1.req.RateLimitExceededError: ergast.com: 200 calls/h\n",
      "Request for URL https://ergast.com/api/f1/2022/7/results.json failed; using cached response\n",
      "Traceback (most recent call last):\n",
      "  File \"c:\\Users\\arkre\\AppData\\Local\\Programs\\Python\\Python310\\lib\\site-packages\\requests_cache\\session.py\", line 285, in _resend\n",
      "    response = self._send_and_cache(request, actions, cached_response, **kwargs)\n",
      "  File \"c:\\Users\\arkre\\AppData\\Local\\Programs\\Python\\Python310\\lib\\site-packages\\requests_cache\\session.py\", line 253, in _send_and_cache\n",
      "    response = super().send(request, **kwargs)\n",
      "  File \"c:\\Users\\arkre\\AppData\\Local\\Programs\\Python\\Python310\\lib\\site-packages\\fastf1\\req.py\", line 125, in send\n",
      "    lim.limit()\n",
      "  File \"c:\\Users\\arkre\\AppData\\Local\\Programs\\Python\\Python310\\lib\\site-packages\\fastf1\\req.py\", line 102, in limit\n",
      "    raise RateLimitExceededError(self._info)\n",
      "fastf1.req.RateLimitExceededError: ergast.com: 200 calls/h\n"
     ]
    },
    {
     "name": "stdout",
     "output_type": "stream",
     "text": [
      "Barcelona, Year: 2022\n"
     ]
    },
    {
     "name": "stderr",
     "output_type": "stream",
     "text": [
      "Request for URL https://ergast.com/api/f1/2022/7/laps/1.json failed; using cached response\n",
      "Traceback (most recent call last):\n",
      "  File \"c:\\Users\\arkre\\AppData\\Local\\Programs\\Python\\Python310\\lib\\site-packages\\requests_cache\\session.py\", line 285, in _resend\n",
      "    response = self._send_and_cache(request, actions, cached_response, **kwargs)\n",
      "  File \"c:\\Users\\arkre\\AppData\\Local\\Programs\\Python\\Python310\\lib\\site-packages\\requests_cache\\session.py\", line 253, in _send_and_cache\n",
      "    response = super().send(request, **kwargs)\n",
      "  File \"c:\\Users\\arkre\\AppData\\Local\\Programs\\Python\\Python310\\lib\\site-packages\\fastf1\\req.py\", line 125, in send\n",
      "    lim.limit()\n",
      "  File \"c:\\Users\\arkre\\AppData\\Local\\Programs\\Python\\Python310\\lib\\site-packages\\fastf1\\req.py\", line 102, in limit\n",
      "    raise RateLimitExceededError(self._info)\n",
      "fastf1.req.RateLimitExceededError: ergast.com: 200 calls/h\n",
      "Request for URL https://ergast.com/api/f1/2022/8/results.json failed; using cached response\n",
      "Traceback (most recent call last):\n",
      "  File \"c:\\Users\\arkre\\AppData\\Local\\Programs\\Python\\Python310\\lib\\site-packages\\requests_cache\\session.py\", line 285, in _resend\n",
      "    response = self._send_and_cache(request, actions, cached_response, **kwargs)\n",
      "  File \"c:\\Users\\arkre\\AppData\\Local\\Programs\\Python\\Python310\\lib\\site-packages\\requests_cache\\session.py\", line 253, in _send_and_cache\n",
      "    response = super().send(request, **kwargs)\n",
      "  File \"c:\\Users\\arkre\\AppData\\Local\\Programs\\Python\\Python310\\lib\\site-packages\\fastf1\\req.py\", line 125, in send\n",
      "    lim.limit()\n",
      "  File \"c:\\Users\\arkre\\AppData\\Local\\Programs\\Python\\Python310\\lib\\site-packages\\fastf1\\req.py\", line 102, in limit\n",
      "    raise RateLimitExceededError(self._info)\n",
      "fastf1.req.RateLimitExceededError: ergast.com: 200 calls/h\n"
     ]
    },
    {
     "name": "stdout",
     "output_type": "stream",
     "text": [
      "Monaco, Year: 2022\n"
     ]
    },
    {
     "name": "stderr",
     "output_type": "stream",
     "text": [
      "Request for URL https://ergast.com/api/f1/2022/8/laps/1.json failed; using cached response\n",
      "Traceback (most recent call last):\n",
      "  File \"c:\\Users\\arkre\\AppData\\Local\\Programs\\Python\\Python310\\lib\\site-packages\\requests_cache\\session.py\", line 285, in _resend\n",
      "    response = self._send_and_cache(request, actions, cached_response, **kwargs)\n",
      "  File \"c:\\Users\\arkre\\AppData\\Local\\Programs\\Python\\Python310\\lib\\site-packages\\requests_cache\\session.py\", line 253, in _send_and_cache\n",
      "    response = super().send(request, **kwargs)\n",
      "  File \"c:\\Users\\arkre\\AppData\\Local\\Programs\\Python\\Python310\\lib\\site-packages\\fastf1\\req.py\", line 125, in send\n",
      "    lim.limit()\n",
      "  File \"c:\\Users\\arkre\\AppData\\Local\\Programs\\Python\\Python310\\lib\\site-packages\\fastf1\\req.py\", line 102, in limit\n",
      "    raise RateLimitExceededError(self._info)\n",
      "fastf1.req.RateLimitExceededError: ergast.com: 200 calls/h\n",
      "Request for URL https://ergast.com/api/f1/2022/9/results.json failed; using cached response\n",
      "Traceback (most recent call last):\n",
      "  File \"c:\\Users\\arkre\\AppData\\Local\\Programs\\Python\\Python310\\lib\\site-packages\\requests_cache\\session.py\", line 285, in _resend\n",
      "    response = self._send_and_cache(request, actions, cached_response, **kwargs)\n",
      "  File \"c:\\Users\\arkre\\AppData\\Local\\Programs\\Python\\Python310\\lib\\site-packages\\requests_cache\\session.py\", line 253, in _send_and_cache\n",
      "    response = super().send(request, **kwargs)\n",
      "  File \"c:\\Users\\arkre\\AppData\\Local\\Programs\\Python\\Python310\\lib\\site-packages\\fastf1\\req.py\", line 125, in send\n",
      "    lim.limit()\n",
      "  File \"c:\\Users\\arkre\\AppData\\Local\\Programs\\Python\\Python310\\lib\\site-packages\\fastf1\\req.py\", line 102, in limit\n",
      "    raise RateLimitExceededError(self._info)\n",
      "fastf1.req.RateLimitExceededError: ergast.com: 200 calls/h\n"
     ]
    },
    {
     "name": "stdout",
     "output_type": "stream",
     "text": [
      "Baku, Year: 2022\n"
     ]
    },
    {
     "name": "stderr",
     "output_type": "stream",
     "text": [
      "Request for URL https://ergast.com/api/f1/2022/9/laps/1.json failed; using cached response\n",
      "Traceback (most recent call last):\n",
      "  File \"c:\\Users\\arkre\\AppData\\Local\\Programs\\Python\\Python310\\lib\\site-packages\\requests_cache\\session.py\", line 285, in _resend\n",
      "    response = self._send_and_cache(request, actions, cached_response, **kwargs)\n",
      "  File \"c:\\Users\\arkre\\AppData\\Local\\Programs\\Python\\Python310\\lib\\site-packages\\requests_cache\\session.py\", line 253, in _send_and_cache\n",
      "    response = super().send(request, **kwargs)\n",
      "  File \"c:\\Users\\arkre\\AppData\\Local\\Programs\\Python\\Python310\\lib\\site-packages\\fastf1\\req.py\", line 125, in send\n",
      "    lim.limit()\n",
      "  File \"c:\\Users\\arkre\\AppData\\Local\\Programs\\Python\\Python310\\lib\\site-packages\\fastf1\\req.py\", line 102, in limit\n",
      "    raise RateLimitExceededError(self._info)\n",
      "fastf1.req.RateLimitExceededError: ergast.com: 200 calls/h\n",
      "Request for URL https://ergast.com/api/f1/2022/10/results.json failed; using cached response\n",
      "Traceback (most recent call last):\n",
      "  File \"c:\\Users\\arkre\\AppData\\Local\\Programs\\Python\\Python310\\lib\\site-packages\\requests_cache\\session.py\", line 285, in _resend\n",
      "    response = self._send_and_cache(request, actions, cached_response, **kwargs)\n",
      "  File \"c:\\Users\\arkre\\AppData\\Local\\Programs\\Python\\Python310\\lib\\site-packages\\requests_cache\\session.py\", line 253, in _send_and_cache\n",
      "    response = super().send(request, **kwargs)\n",
      "  File \"c:\\Users\\arkre\\AppData\\Local\\Programs\\Python\\Python310\\lib\\site-packages\\fastf1\\req.py\", line 125, in send\n",
      "    lim.limit()\n",
      "  File \"c:\\Users\\arkre\\AppData\\Local\\Programs\\Python\\Python310\\lib\\site-packages\\fastf1\\req.py\", line 102, in limit\n",
      "    raise RateLimitExceededError(self._info)\n",
      "fastf1.req.RateLimitExceededError: ergast.com: 200 calls/h\n"
     ]
    },
    {
     "name": "stdout",
     "output_type": "stream",
     "text": [
      "Montréal, Year: 2022\n"
     ]
    },
    {
     "name": "stderr",
     "output_type": "stream",
     "text": [
      "Request for URL https://ergast.com/api/f1/2022/10/laps/1.json failed; using cached response\n",
      "Traceback (most recent call last):\n",
      "  File \"c:\\Users\\arkre\\AppData\\Local\\Programs\\Python\\Python310\\lib\\site-packages\\requests_cache\\session.py\", line 285, in _resend\n",
      "    response = self._send_and_cache(request, actions, cached_response, **kwargs)\n",
      "  File \"c:\\Users\\arkre\\AppData\\Local\\Programs\\Python\\Python310\\lib\\site-packages\\requests_cache\\session.py\", line 253, in _send_and_cache\n",
      "    response = super().send(request, **kwargs)\n",
      "  File \"c:\\Users\\arkre\\AppData\\Local\\Programs\\Python\\Python310\\lib\\site-packages\\fastf1\\req.py\", line 125, in send\n",
      "    lim.limit()\n",
      "  File \"c:\\Users\\arkre\\AppData\\Local\\Programs\\Python\\Python310\\lib\\site-packages\\fastf1\\req.py\", line 102, in limit\n",
      "    raise RateLimitExceededError(self._info)\n",
      "fastf1.req.RateLimitExceededError: ergast.com: 200 calls/h\n",
      "Request for URL https://ergast.com/api/f1/2022/11/results.json failed; using cached response\n",
      "Traceback (most recent call last):\n",
      "  File \"c:\\Users\\arkre\\AppData\\Local\\Programs\\Python\\Python310\\lib\\site-packages\\requests_cache\\session.py\", line 285, in _resend\n",
      "    response = self._send_and_cache(request, actions, cached_response, **kwargs)\n",
      "  File \"c:\\Users\\arkre\\AppData\\Local\\Programs\\Python\\Python310\\lib\\site-packages\\requests_cache\\session.py\", line 253, in _send_and_cache\n",
      "    response = super().send(request, **kwargs)\n",
      "  File \"c:\\Users\\arkre\\AppData\\Local\\Programs\\Python\\Python310\\lib\\site-packages\\fastf1\\req.py\", line 125, in send\n",
      "    lim.limit()\n",
      "  File \"c:\\Users\\arkre\\AppData\\Local\\Programs\\Python\\Python310\\lib\\site-packages\\fastf1\\req.py\", line 102, in limit\n",
      "    raise RateLimitExceededError(self._info)\n",
      "fastf1.req.RateLimitExceededError: ergast.com: 200 calls/h\n"
     ]
    },
    {
     "name": "stdout",
     "output_type": "stream",
     "text": [
      "Silverstone, Year: 2022\n"
     ]
    },
    {
     "name": "stderr",
     "output_type": "stream",
     "text": [
      "Request for URL https://ergast.com/api/f1/2022/11/laps/1.json failed; using cached response\n",
      "Traceback (most recent call last):\n",
      "  File \"c:\\Users\\arkre\\AppData\\Local\\Programs\\Python\\Python310\\lib\\site-packages\\requests_cache\\session.py\", line 285, in _resend\n",
      "    response = self._send_and_cache(request, actions, cached_response, **kwargs)\n",
      "  File \"c:\\Users\\arkre\\AppData\\Local\\Programs\\Python\\Python310\\lib\\site-packages\\requests_cache\\session.py\", line 253, in _send_and_cache\n",
      "    response = super().send(request, **kwargs)\n",
      "  File \"c:\\Users\\arkre\\AppData\\Local\\Programs\\Python\\Python310\\lib\\site-packages\\fastf1\\req.py\", line 125, in send\n",
      "    lim.limit()\n",
      "  File \"c:\\Users\\arkre\\AppData\\Local\\Programs\\Python\\Python310\\lib\\site-packages\\fastf1\\req.py\", line 102, in limit\n",
      "    raise RateLimitExceededError(self._info)\n",
      "fastf1.req.RateLimitExceededError: ergast.com: 200 calls/h\n",
      "Request for URL https://ergast.com/api/f1/2022/12/results.json failed; using cached response\n",
      "Traceback (most recent call last):\n",
      "  File \"c:\\Users\\arkre\\AppData\\Local\\Programs\\Python\\Python310\\lib\\site-packages\\requests_cache\\session.py\", line 285, in _resend\n",
      "    response = self._send_and_cache(request, actions, cached_response, **kwargs)\n",
      "  File \"c:\\Users\\arkre\\AppData\\Local\\Programs\\Python\\Python310\\lib\\site-packages\\requests_cache\\session.py\", line 253, in _send_and_cache\n",
      "    response = super().send(request, **kwargs)\n",
      "  File \"c:\\Users\\arkre\\AppData\\Local\\Programs\\Python\\Python310\\lib\\site-packages\\fastf1\\req.py\", line 125, in send\n",
      "    lim.limit()\n",
      "  File \"c:\\Users\\arkre\\AppData\\Local\\Programs\\Python\\Python310\\lib\\site-packages\\fastf1\\req.py\", line 102, in limit\n",
      "    raise RateLimitExceededError(self._info)\n",
      "fastf1.req.RateLimitExceededError: ergast.com: 200 calls/h\n"
     ]
    },
    {
     "name": "stdout",
     "output_type": "stream",
     "text": [
      "Spielberg, Year: 2022\n"
     ]
    },
    {
     "name": "stderr",
     "output_type": "stream",
     "text": [
      "Request for URL https://ergast.com/api/f1/2022/12/laps/1.json failed; using cached response\n",
      "Traceback (most recent call last):\n",
      "  File \"c:\\Users\\arkre\\AppData\\Local\\Programs\\Python\\Python310\\lib\\site-packages\\requests_cache\\session.py\", line 285, in _resend\n",
      "    response = self._send_and_cache(request, actions, cached_response, **kwargs)\n",
      "  File \"c:\\Users\\arkre\\AppData\\Local\\Programs\\Python\\Python310\\lib\\site-packages\\requests_cache\\session.py\", line 253, in _send_and_cache\n",
      "    response = super().send(request, **kwargs)\n",
      "  File \"c:\\Users\\arkre\\AppData\\Local\\Programs\\Python\\Python310\\lib\\site-packages\\fastf1\\req.py\", line 125, in send\n",
      "    lim.limit()\n",
      "  File \"c:\\Users\\arkre\\AppData\\Local\\Programs\\Python\\Python310\\lib\\site-packages\\fastf1\\req.py\", line 102, in limit\n",
      "    raise RateLimitExceededError(self._info)\n",
      "fastf1.req.RateLimitExceededError: ergast.com: 200 calls/h\n",
      "Request for URL https://ergast.com/api/f1/2022/13/results.json failed; using cached response\n",
      "Traceback (most recent call last):\n",
      "  File \"c:\\Users\\arkre\\AppData\\Local\\Programs\\Python\\Python310\\lib\\site-packages\\requests_cache\\session.py\", line 285, in _resend\n",
      "    response = self._send_and_cache(request, actions, cached_response, **kwargs)\n",
      "  File \"c:\\Users\\arkre\\AppData\\Local\\Programs\\Python\\Python310\\lib\\site-packages\\requests_cache\\session.py\", line 253, in _send_and_cache\n",
      "    response = super().send(request, **kwargs)\n",
      "  File \"c:\\Users\\arkre\\AppData\\Local\\Programs\\Python\\Python310\\lib\\site-packages\\fastf1\\req.py\", line 125, in send\n",
      "    lim.limit()\n",
      "  File \"c:\\Users\\arkre\\AppData\\Local\\Programs\\Python\\Python310\\lib\\site-packages\\fastf1\\req.py\", line 102, in limit\n",
      "    raise RateLimitExceededError(self._info)\n",
      "fastf1.req.RateLimitExceededError: ergast.com: 200 calls/h\n"
     ]
    },
    {
     "name": "stdout",
     "output_type": "stream",
     "text": [
      "Le Castellet, Year: 2022\n"
     ]
    },
    {
     "name": "stderr",
     "output_type": "stream",
     "text": [
      "Request for URL https://ergast.com/api/f1/2022/13/laps/1.json failed; using cached response\n",
      "Traceback (most recent call last):\n",
      "  File \"c:\\Users\\arkre\\AppData\\Local\\Programs\\Python\\Python310\\lib\\site-packages\\requests_cache\\session.py\", line 285, in _resend\n",
      "    response = self._send_and_cache(request, actions, cached_response, **kwargs)\n",
      "  File \"c:\\Users\\arkre\\AppData\\Local\\Programs\\Python\\Python310\\lib\\site-packages\\requests_cache\\session.py\", line 253, in _send_and_cache\n",
      "    response = super().send(request, **kwargs)\n",
      "  File \"c:\\Users\\arkre\\AppData\\Local\\Programs\\Python\\Python310\\lib\\site-packages\\fastf1\\req.py\", line 125, in send\n",
      "    lim.limit()\n",
      "  File \"c:\\Users\\arkre\\AppData\\Local\\Programs\\Python\\Python310\\lib\\site-packages\\fastf1\\req.py\", line 102, in limit\n",
      "    raise RateLimitExceededError(self._info)\n",
      "fastf1.req.RateLimitExceededError: ergast.com: 200 calls/h\n",
      "Request for URL https://ergast.com/api/f1/2022/14/results.json failed; using cached response\n",
      "Traceback (most recent call last):\n",
      "  File \"c:\\Users\\arkre\\AppData\\Local\\Programs\\Python\\Python310\\lib\\site-packages\\requests_cache\\session.py\", line 285, in _resend\n",
      "    response = self._send_and_cache(request, actions, cached_response, **kwargs)\n",
      "  File \"c:\\Users\\arkre\\AppData\\Local\\Programs\\Python\\Python310\\lib\\site-packages\\requests_cache\\session.py\", line 253, in _send_and_cache\n",
      "    response = super().send(request, **kwargs)\n",
      "  File \"c:\\Users\\arkre\\AppData\\Local\\Programs\\Python\\Python310\\lib\\site-packages\\fastf1\\req.py\", line 125, in send\n",
      "    lim.limit()\n",
      "  File \"c:\\Users\\arkre\\AppData\\Local\\Programs\\Python\\Python310\\lib\\site-packages\\fastf1\\req.py\", line 102, in limit\n",
      "    raise RateLimitExceededError(self._info)\n",
      "fastf1.req.RateLimitExceededError: ergast.com: 200 calls/h\n"
     ]
    },
    {
     "name": "stdout",
     "output_type": "stream",
     "text": [
      "Budapest, Year: 2022\n"
     ]
    },
    {
     "name": "stderr",
     "output_type": "stream",
     "text": [
      "Request for URL https://ergast.com/api/f1/2022/14/laps/1.json failed; using cached response\n",
      "Traceback (most recent call last):\n",
      "  File \"c:\\Users\\arkre\\AppData\\Local\\Programs\\Python\\Python310\\lib\\site-packages\\requests_cache\\session.py\", line 285, in _resend\n",
      "    response = self._send_and_cache(request, actions, cached_response, **kwargs)\n",
      "  File \"c:\\Users\\arkre\\AppData\\Local\\Programs\\Python\\Python310\\lib\\site-packages\\requests_cache\\session.py\", line 253, in _send_and_cache\n",
      "    response = super().send(request, **kwargs)\n",
      "  File \"c:\\Users\\arkre\\AppData\\Local\\Programs\\Python\\Python310\\lib\\site-packages\\fastf1\\req.py\", line 125, in send\n",
      "    lim.limit()\n",
      "  File \"c:\\Users\\arkre\\AppData\\Local\\Programs\\Python\\Python310\\lib\\site-packages\\fastf1\\req.py\", line 102, in limit\n",
      "    raise RateLimitExceededError(self._info)\n",
      "fastf1.req.RateLimitExceededError: ergast.com: 200 calls/h\n"
     ]
    },
    {
     "name": "stdout",
     "output_type": "stream",
     "text": [
      "Spa-Francorchamps, Year: 2022\n"
     ]
    },
    {
     "name": "stderr",
     "output_type": "stream",
     "text": [
      "Request for URL https://ergast.com/api/f1/2022/15/results.json failed; using cached response\n",
      "Traceback (most recent call last):\n",
      "  File \"c:\\Users\\arkre\\AppData\\Local\\Programs\\Python\\Python310\\lib\\site-packages\\requests_cache\\session.py\", line 285, in _resend\n",
      "    response = self._send_and_cache(request, actions, cached_response, **kwargs)\n",
      "  File \"c:\\Users\\arkre\\AppData\\Local\\Programs\\Python\\Python310\\lib\\site-packages\\requests_cache\\session.py\", line 253, in _send_and_cache\n",
      "    response = super().send(request, **kwargs)\n",
      "  File \"c:\\Users\\arkre\\AppData\\Local\\Programs\\Python\\Python310\\lib\\site-packages\\fastf1\\req.py\", line 125, in send\n",
      "    lim.limit()\n",
      "  File \"c:\\Users\\arkre\\AppData\\Local\\Programs\\Python\\Python310\\lib\\site-packages\\fastf1\\req.py\", line 102, in limit\n",
      "    raise RateLimitExceededError(self._info)\n",
      "fastf1.req.RateLimitExceededError: ergast.com: 200 calls/h\n",
      "Request for URL https://ergast.com/api/f1/2022/15/laps/1.json failed; using cached response\n",
      "Traceback (most recent call last):\n",
      "  File \"c:\\Users\\arkre\\AppData\\Local\\Programs\\Python\\Python310\\lib\\site-packages\\requests_cache\\session.py\", line 285, in _resend\n",
      "    response = self._send_and_cache(request, actions, cached_response, **kwargs)\n",
      "  File \"c:\\Users\\arkre\\AppData\\Local\\Programs\\Python\\Python310\\lib\\site-packages\\requests_cache\\session.py\", line 253, in _send_and_cache\n",
      "    response = super().send(request, **kwargs)\n",
      "  File \"c:\\Users\\arkre\\AppData\\Local\\Programs\\Python\\Python310\\lib\\site-packages\\fastf1\\req.py\", line 125, in send\n",
      "    lim.limit()\n",
      "  File \"c:\\Users\\arkre\\AppData\\Local\\Programs\\Python\\Python310\\lib\\site-packages\\fastf1\\req.py\", line 102, in limit\n",
      "    raise RateLimitExceededError(self._info)\n",
      "fastf1.req.RateLimitExceededError: ergast.com: 200 calls/h\n",
      "Request for URL https://ergast.com/api/f1/2022/16/results.json failed; using cached response\n",
      "Traceback (most recent call last):\n",
      "  File \"c:\\Users\\arkre\\AppData\\Local\\Programs\\Python\\Python310\\lib\\site-packages\\requests_cache\\session.py\", line 285, in _resend\n",
      "    response = self._send_and_cache(request, actions, cached_response, **kwargs)\n",
      "  File \"c:\\Users\\arkre\\AppData\\Local\\Programs\\Python\\Python310\\lib\\site-packages\\requests_cache\\session.py\", line 253, in _send_and_cache\n",
      "    response = super().send(request, **kwargs)\n",
      "  File \"c:\\Users\\arkre\\AppData\\Local\\Programs\\Python\\Python310\\lib\\site-packages\\fastf1\\req.py\", line 125, in send\n",
      "    lim.limit()\n",
      "  File \"c:\\Users\\arkre\\AppData\\Local\\Programs\\Python\\Python310\\lib\\site-packages\\fastf1\\req.py\", line 102, in limit\n",
      "    raise RateLimitExceededError(self._info)\n",
      "fastf1.req.RateLimitExceededError: ergast.com: 200 calls/h\n"
     ]
    },
    {
     "name": "stdout",
     "output_type": "stream",
     "text": [
      "Zandvoort, Year: 2022\n"
     ]
    },
    {
     "name": "stderr",
     "output_type": "stream",
     "text": [
      "Request for URL https://ergast.com/api/f1/2022/16/laps/1.json failed; using cached response\n",
      "Traceback (most recent call last):\n",
      "  File \"c:\\Users\\arkre\\AppData\\Local\\Programs\\Python\\Python310\\lib\\site-packages\\requests_cache\\session.py\", line 285, in _resend\n",
      "    response = self._send_and_cache(request, actions, cached_response, **kwargs)\n",
      "  File \"c:\\Users\\arkre\\AppData\\Local\\Programs\\Python\\Python310\\lib\\site-packages\\requests_cache\\session.py\", line 253, in _send_and_cache\n",
      "    response = super().send(request, **kwargs)\n",
      "  File \"c:\\Users\\arkre\\AppData\\Local\\Programs\\Python\\Python310\\lib\\site-packages\\fastf1\\req.py\", line 125, in send\n",
      "    lim.limit()\n",
      "  File \"c:\\Users\\arkre\\AppData\\Local\\Programs\\Python\\Python310\\lib\\site-packages\\fastf1\\req.py\", line 102, in limit\n",
      "    raise RateLimitExceededError(self._info)\n",
      "fastf1.req.RateLimitExceededError: ergast.com: 200 calls/h\n"
     ]
    },
    {
     "name": "stdout",
     "output_type": "stream",
     "text": [
      "Monza, Year: 2022\n"
     ]
    },
    {
     "name": "stderr",
     "output_type": "stream",
     "text": [
      "Request for URL https://ergast.com/api/f1/2022/17/results.json failed; using cached response\n",
      "Traceback (most recent call last):\n",
      "  File \"c:\\Users\\arkre\\AppData\\Local\\Programs\\Python\\Python310\\lib\\site-packages\\requests_cache\\session.py\", line 285, in _resend\n",
      "    response = self._send_and_cache(request, actions, cached_response, **kwargs)\n",
      "  File \"c:\\Users\\arkre\\AppData\\Local\\Programs\\Python\\Python310\\lib\\site-packages\\requests_cache\\session.py\", line 253, in _send_and_cache\n",
      "    response = super().send(request, **kwargs)\n",
      "  File \"c:\\Users\\arkre\\AppData\\Local\\Programs\\Python\\Python310\\lib\\site-packages\\fastf1\\req.py\", line 125, in send\n",
      "    lim.limit()\n",
      "  File \"c:\\Users\\arkre\\AppData\\Local\\Programs\\Python\\Python310\\lib\\site-packages\\fastf1\\req.py\", line 102, in limit\n",
      "    raise RateLimitExceededError(self._info)\n",
      "fastf1.req.RateLimitExceededError: ergast.com: 200 calls/h\n",
      "Request for URL https://ergast.com/api/f1/2022/17/laps/1.json failed; using cached response\n",
      "Traceback (most recent call last):\n",
      "  File \"c:\\Users\\arkre\\AppData\\Local\\Programs\\Python\\Python310\\lib\\site-packages\\requests_cache\\session.py\", line 285, in _resend\n",
      "    response = self._send_and_cache(request, actions, cached_response, **kwargs)\n",
      "  File \"c:\\Users\\arkre\\AppData\\Local\\Programs\\Python\\Python310\\lib\\site-packages\\requests_cache\\session.py\", line 253, in _send_and_cache\n",
      "    response = super().send(request, **kwargs)\n",
      "  File \"c:\\Users\\arkre\\AppData\\Local\\Programs\\Python\\Python310\\lib\\site-packages\\fastf1\\req.py\", line 125, in send\n",
      "    lim.limit()\n",
      "  File \"c:\\Users\\arkre\\AppData\\Local\\Programs\\Python\\Python310\\lib\\site-packages\\fastf1\\req.py\", line 102, in limit\n",
      "    raise RateLimitExceededError(self._info)\n",
      "fastf1.req.RateLimitExceededError: ergast.com: 200 calls/h\n"
     ]
    },
    {
     "name": "stdout",
     "output_type": "stream",
     "text": [
      "Marina Bay, Year: 2022\n"
     ]
    },
    {
     "name": "stderr",
     "output_type": "stream",
     "text": [
      "Request for URL https://ergast.com/api/f1/2022/18/results.json failed; using cached response\n",
      "Traceback (most recent call last):\n",
      "  File \"c:\\Users\\arkre\\AppData\\Local\\Programs\\Python\\Python310\\lib\\site-packages\\requests_cache\\session.py\", line 285, in _resend\n",
      "    response = self._send_and_cache(request, actions, cached_response, **kwargs)\n",
      "  File \"c:\\Users\\arkre\\AppData\\Local\\Programs\\Python\\Python310\\lib\\site-packages\\requests_cache\\session.py\", line 253, in _send_and_cache\n",
      "    response = super().send(request, **kwargs)\n",
      "  File \"c:\\Users\\arkre\\AppData\\Local\\Programs\\Python\\Python310\\lib\\site-packages\\fastf1\\req.py\", line 125, in send\n",
      "    lim.limit()\n",
      "  File \"c:\\Users\\arkre\\AppData\\Local\\Programs\\Python\\Python310\\lib\\site-packages\\fastf1\\req.py\", line 102, in limit\n",
      "    raise RateLimitExceededError(self._info)\n",
      "fastf1.req.RateLimitExceededError: ergast.com: 200 calls/h\n",
      "Request for URL https://ergast.com/api/f1/2022/18/laps/1.json failed; using cached response\n",
      "Traceback (most recent call last):\n",
      "  File \"c:\\Users\\arkre\\AppData\\Local\\Programs\\Python\\Python310\\lib\\site-packages\\requests_cache\\session.py\", line 285, in _resend\n",
      "    response = self._send_and_cache(request, actions, cached_response, **kwargs)\n",
      "  File \"c:\\Users\\arkre\\AppData\\Local\\Programs\\Python\\Python310\\lib\\site-packages\\requests_cache\\session.py\", line 253, in _send_and_cache\n",
      "    response = super().send(request, **kwargs)\n",
      "  File \"c:\\Users\\arkre\\AppData\\Local\\Programs\\Python\\Python310\\lib\\site-packages\\fastf1\\req.py\", line 125, in send\n",
      "    lim.limit()\n",
      "  File \"c:\\Users\\arkre\\AppData\\Local\\Programs\\Python\\Python310\\lib\\site-packages\\fastf1\\req.py\", line 102, in limit\n",
      "    raise RateLimitExceededError(self._info)\n",
      "fastf1.req.RateLimitExceededError: ergast.com: 200 calls/h\n",
      "Request for URL https://ergast.com/api/f1/2022/19/results.json failed; using cached response\n",
      "Traceback (most recent call last):\n",
      "  File \"c:\\Users\\arkre\\AppData\\Local\\Programs\\Python\\Python310\\lib\\site-packages\\requests_cache\\session.py\", line 285, in _resend\n",
      "    response = self._send_and_cache(request, actions, cached_response, **kwargs)\n",
      "  File \"c:\\Users\\arkre\\AppData\\Local\\Programs\\Python\\Python310\\lib\\site-packages\\requests_cache\\session.py\", line 253, in _send_and_cache\n",
      "    response = super().send(request, **kwargs)\n",
      "  File \"c:\\Users\\arkre\\AppData\\Local\\Programs\\Python\\Python310\\lib\\site-packages\\fastf1\\req.py\", line 125, in send\n",
      "    lim.limit()\n",
      "  File \"c:\\Users\\arkre\\AppData\\Local\\Programs\\Python\\Python310\\lib\\site-packages\\fastf1\\req.py\", line 102, in limit\n",
      "    raise RateLimitExceededError(self._info)\n",
      "fastf1.req.RateLimitExceededError: ergast.com: 200 calls/h\n"
     ]
    },
    {
     "name": "stdout",
     "output_type": "stream",
     "text": [
      "Suzuka, Year: 2022\n"
     ]
    },
    {
     "name": "stderr",
     "output_type": "stream",
     "text": [
      "Request for URL https://ergast.com/api/f1/2022/19/laps/1.json failed; using cached response\n",
      "Traceback (most recent call last):\n",
      "  File \"c:\\Users\\arkre\\AppData\\Local\\Programs\\Python\\Python310\\lib\\site-packages\\requests_cache\\session.py\", line 285, in _resend\n",
      "    response = self._send_and_cache(request, actions, cached_response, **kwargs)\n",
      "  File \"c:\\Users\\arkre\\AppData\\Local\\Programs\\Python\\Python310\\lib\\site-packages\\requests_cache\\session.py\", line 253, in _send_and_cache\n",
      "    response = super().send(request, **kwargs)\n",
      "  File \"c:\\Users\\arkre\\AppData\\Local\\Programs\\Python\\Python310\\lib\\site-packages\\fastf1\\req.py\", line 125, in send\n",
      "    lim.limit()\n",
      "  File \"c:\\Users\\arkre\\AppData\\Local\\Programs\\Python\\Python310\\lib\\site-packages\\fastf1\\req.py\", line 102, in limit\n",
      "    raise RateLimitExceededError(self._info)\n",
      "fastf1.req.RateLimitExceededError: ergast.com: 200 calls/h\n",
      "Request for URL https://ergast.com/api/f1/2022/20/results.json failed; using cached response\n",
      "Traceback (most recent call last):\n",
      "  File \"c:\\Users\\arkre\\AppData\\Local\\Programs\\Python\\Python310\\lib\\site-packages\\requests_cache\\session.py\", line 285, in _resend\n",
      "    response = self._send_and_cache(request, actions, cached_response, **kwargs)\n",
      "  File \"c:\\Users\\arkre\\AppData\\Local\\Programs\\Python\\Python310\\lib\\site-packages\\requests_cache\\session.py\", line 253, in _send_and_cache\n",
      "    response = super().send(request, **kwargs)\n",
      "  File \"c:\\Users\\arkre\\AppData\\Local\\Programs\\Python\\Python310\\lib\\site-packages\\fastf1\\req.py\", line 125, in send\n",
      "    lim.limit()\n",
      "  File \"c:\\Users\\arkre\\AppData\\Local\\Programs\\Python\\Python310\\lib\\site-packages\\fastf1\\req.py\", line 102, in limit\n",
      "    raise RateLimitExceededError(self._info)\n",
      "fastf1.req.RateLimitExceededError: ergast.com: 200 calls/h\n"
     ]
    },
    {
     "name": "stdout",
     "output_type": "stream",
     "text": [
      "Austin, Year: 2022\n"
     ]
    },
    {
     "name": "stderr",
     "output_type": "stream",
     "text": [
      "Request for URL https://ergast.com/api/f1/2022/20/laps/1.json failed; using cached response\n",
      "Traceback (most recent call last):\n",
      "  File \"c:\\Users\\arkre\\AppData\\Local\\Programs\\Python\\Python310\\lib\\site-packages\\requests_cache\\session.py\", line 285, in _resend\n",
      "    response = self._send_and_cache(request, actions, cached_response, **kwargs)\n",
      "  File \"c:\\Users\\arkre\\AppData\\Local\\Programs\\Python\\Python310\\lib\\site-packages\\requests_cache\\session.py\", line 253, in _send_and_cache\n",
      "    response = super().send(request, **kwargs)\n",
      "  File \"c:\\Users\\arkre\\AppData\\Local\\Programs\\Python\\Python310\\lib\\site-packages\\fastf1\\req.py\", line 125, in send\n",
      "    lim.limit()\n",
      "  File \"c:\\Users\\arkre\\AppData\\Local\\Programs\\Python\\Python310\\lib\\site-packages\\fastf1\\req.py\", line 102, in limit\n",
      "    raise RateLimitExceededError(self._info)\n",
      "fastf1.req.RateLimitExceededError: ergast.com: 200 calls/h\n",
      "Request for URL https://ergast.com/api/f1/2022/21/results.json failed; using cached response\n",
      "Traceback (most recent call last):\n",
      "  File \"c:\\Users\\arkre\\AppData\\Local\\Programs\\Python\\Python310\\lib\\site-packages\\requests_cache\\session.py\", line 285, in _resend\n",
      "    response = self._send_and_cache(request, actions, cached_response, **kwargs)\n",
      "  File \"c:\\Users\\arkre\\AppData\\Local\\Programs\\Python\\Python310\\lib\\site-packages\\requests_cache\\session.py\", line 253, in _send_and_cache\n",
      "    response = super().send(request, **kwargs)\n",
      "  File \"c:\\Users\\arkre\\AppData\\Local\\Programs\\Python\\Python310\\lib\\site-packages\\fastf1\\req.py\", line 125, in send\n",
      "    lim.limit()\n",
      "  File \"c:\\Users\\arkre\\AppData\\Local\\Programs\\Python\\Python310\\lib\\site-packages\\fastf1\\req.py\", line 102, in limit\n",
      "    raise RateLimitExceededError(self._info)\n",
      "fastf1.req.RateLimitExceededError: ergast.com: 200 calls/h\n"
     ]
    },
    {
     "name": "stdout",
     "output_type": "stream",
     "text": [
      "Mexico City, Year: 2022\n"
     ]
    },
    {
     "name": "stderr",
     "output_type": "stream",
     "text": [
      "Request for URL https://ergast.com/api/f1/2022/21/laps/1.json failed; using cached response\n",
      "Traceback (most recent call last):\n",
      "  File \"c:\\Users\\arkre\\AppData\\Local\\Programs\\Python\\Python310\\lib\\site-packages\\requests_cache\\session.py\", line 285, in _resend\n",
      "    response = self._send_and_cache(request, actions, cached_response, **kwargs)\n",
      "  File \"c:\\Users\\arkre\\AppData\\Local\\Programs\\Python\\Python310\\lib\\site-packages\\requests_cache\\session.py\", line 253, in _send_and_cache\n",
      "    response = super().send(request, **kwargs)\n",
      "  File \"c:\\Users\\arkre\\AppData\\Local\\Programs\\Python\\Python310\\lib\\site-packages\\fastf1\\req.py\", line 125, in send\n",
      "    lim.limit()\n",
      "  File \"c:\\Users\\arkre\\AppData\\Local\\Programs\\Python\\Python310\\lib\\site-packages\\fastf1\\req.py\", line 102, in limit\n",
      "    raise RateLimitExceededError(self._info)\n",
      "fastf1.req.RateLimitExceededError: ergast.com: 200 calls/h\n",
      "Request for URL https://ergast.com/api/f1/2022/22/results.json failed; using cached response\n",
      "Traceback (most recent call last):\n",
      "  File \"c:\\Users\\arkre\\AppData\\Local\\Programs\\Python\\Python310\\lib\\site-packages\\requests_cache\\session.py\", line 285, in _resend\n",
      "    response = self._send_and_cache(request, actions, cached_response, **kwargs)\n",
      "  File \"c:\\Users\\arkre\\AppData\\Local\\Programs\\Python\\Python310\\lib\\site-packages\\requests_cache\\session.py\", line 253, in _send_and_cache\n",
      "    response = super().send(request, **kwargs)\n",
      "  File \"c:\\Users\\arkre\\AppData\\Local\\Programs\\Python\\Python310\\lib\\site-packages\\fastf1\\req.py\", line 125, in send\n",
      "    lim.limit()\n",
      "  File \"c:\\Users\\arkre\\AppData\\Local\\Programs\\Python\\Python310\\lib\\site-packages\\fastf1\\req.py\", line 102, in limit\n",
      "    raise RateLimitExceededError(self._info)\n",
      "fastf1.req.RateLimitExceededError: ergast.com: 200 calls/h\n"
     ]
    },
    {
     "name": "stdout",
     "output_type": "stream",
     "text": [
      "São Paulo, Year: 2022\n"
     ]
    },
    {
     "name": "stderr",
     "output_type": "stream",
     "text": [
      "Request for URL https://ergast.com/api/f1/2022/22/laps/1.json failed; using cached response\n",
      "Traceback (most recent call last):\n",
      "  File \"c:\\Users\\arkre\\AppData\\Local\\Programs\\Python\\Python310\\lib\\site-packages\\requests_cache\\session.py\", line 285, in _resend\n",
      "    response = self._send_and_cache(request, actions, cached_response, **kwargs)\n",
      "  File \"c:\\Users\\arkre\\AppData\\Local\\Programs\\Python\\Python310\\lib\\site-packages\\requests_cache\\session.py\", line 253, in _send_and_cache\n",
      "    response = super().send(request, **kwargs)\n",
      "  File \"c:\\Users\\arkre\\AppData\\Local\\Programs\\Python\\Python310\\lib\\site-packages\\fastf1\\req.py\", line 125, in send\n",
      "    lim.limit()\n",
      "  File \"c:\\Users\\arkre\\AppData\\Local\\Programs\\Python\\Python310\\lib\\site-packages\\fastf1\\req.py\", line 102, in limit\n",
      "    raise RateLimitExceededError(self._info)\n",
      "fastf1.req.RateLimitExceededError: ergast.com: 200 calls/h\n"
     ]
    },
    {
     "name": "stdout",
     "output_type": "stream",
     "text": [
      "Yas Island, Year: 2022\n"
     ]
    },
    {
     "name": "stderr",
     "output_type": "stream",
     "text": [
      "Request for URL https://ergast.com/api/f1/2023/1/results.json failed; using cached response\n",
      "Traceback (most recent call last):\n",
      "  File \"c:\\Users\\arkre\\AppData\\Local\\Programs\\Python\\Python310\\lib\\site-packages\\requests_cache\\session.py\", line 285, in _resend\n",
      "    response = self._send_and_cache(request, actions, cached_response, **kwargs)\n",
      "  File \"c:\\Users\\arkre\\AppData\\Local\\Programs\\Python\\Python310\\lib\\site-packages\\requests_cache\\session.py\", line 253, in _send_and_cache\n",
      "    response = super().send(request, **kwargs)\n",
      "  File \"c:\\Users\\arkre\\AppData\\Local\\Programs\\Python\\Python310\\lib\\site-packages\\fastf1\\req.py\", line 125, in send\n",
      "    lim.limit()\n",
      "  File \"c:\\Users\\arkre\\AppData\\Local\\Programs\\Python\\Python310\\lib\\site-packages\\fastf1\\req.py\", line 102, in limit\n",
      "    raise RateLimitExceededError(self._info)\n",
      "fastf1.req.RateLimitExceededError: ergast.com: 200 calls/h\n",
      "Request for URL https://ergast.com/api/f1/2023/1/laps/1.json failed; using cached response\n",
      "Traceback (most recent call last):\n",
      "  File \"c:\\Users\\arkre\\AppData\\Local\\Programs\\Python\\Python310\\lib\\site-packages\\requests_cache\\session.py\", line 285, in _resend\n",
      "    response = self._send_and_cache(request, actions, cached_response, **kwargs)\n",
      "  File \"c:\\Users\\arkre\\AppData\\Local\\Programs\\Python\\Python310\\lib\\site-packages\\requests_cache\\session.py\", line 253, in _send_and_cache\n",
      "    response = super().send(request, **kwargs)\n",
      "  File \"c:\\Users\\arkre\\AppData\\Local\\Programs\\Python\\Python310\\lib\\site-packages\\fastf1\\req.py\", line 125, in send\n",
      "    lim.limit()\n",
      "  File \"c:\\Users\\arkre\\AppData\\Local\\Programs\\Python\\Python310\\lib\\site-packages\\fastf1\\req.py\", line 102, in limit\n",
      "    raise RateLimitExceededError(self._info)\n",
      "fastf1.req.RateLimitExceededError: ergast.com: 200 calls/h\n",
      "Request for URL https://ergast.com/api/f1/2023/2/results.json failed; using cached response\n",
      "Traceback (most recent call last):\n",
      "  File \"c:\\Users\\arkre\\AppData\\Local\\Programs\\Python\\Python310\\lib\\site-packages\\requests_cache\\session.py\", line 285, in _resend\n",
      "    response = self._send_and_cache(request, actions, cached_response, **kwargs)\n",
      "  File \"c:\\Users\\arkre\\AppData\\Local\\Programs\\Python\\Python310\\lib\\site-packages\\requests_cache\\session.py\", line 253, in _send_and_cache\n",
      "    response = super().send(request, **kwargs)\n",
      "  File \"c:\\Users\\arkre\\AppData\\Local\\Programs\\Python\\Python310\\lib\\site-packages\\fastf1\\req.py\", line 125, in send\n",
      "    lim.limit()\n",
      "  File \"c:\\Users\\arkre\\AppData\\Local\\Programs\\Python\\Python310\\lib\\site-packages\\fastf1\\req.py\", line 102, in limit\n",
      "    raise RateLimitExceededError(self._info)\n",
      "fastf1.req.RateLimitExceededError: ergast.com: 200 calls/h\n"
     ]
    },
    {
     "name": "stdout",
     "output_type": "stream",
     "text": [
      "Sakhir, Year: 2023\n"
     ]
    },
    {
     "name": "stderr",
     "output_type": "stream",
     "text": [
      "Request for URL https://ergast.com/api/f1/2023/2/laps/1.json failed; using cached response\n",
      "Traceback (most recent call last):\n",
      "  File \"c:\\Users\\arkre\\AppData\\Local\\Programs\\Python\\Python310\\lib\\site-packages\\requests_cache\\session.py\", line 285, in _resend\n",
      "    response = self._send_and_cache(request, actions, cached_response, **kwargs)\n",
      "  File \"c:\\Users\\arkre\\AppData\\Local\\Programs\\Python\\Python310\\lib\\site-packages\\requests_cache\\session.py\", line 253, in _send_and_cache\n",
      "    response = super().send(request, **kwargs)\n",
      "  File \"c:\\Users\\arkre\\AppData\\Local\\Programs\\Python\\Python310\\lib\\site-packages\\fastf1\\req.py\", line 125, in send\n",
      "    lim.limit()\n",
      "  File \"c:\\Users\\arkre\\AppData\\Local\\Programs\\Python\\Python310\\lib\\site-packages\\fastf1\\req.py\", line 102, in limit\n",
      "    raise RateLimitExceededError(self._info)\n",
      "fastf1.req.RateLimitExceededError: ergast.com: 200 calls/h\n"
     ]
    },
    {
     "name": "stdout",
     "output_type": "stream",
     "text": [
      "Jeddah, Year: 2023\n"
     ]
    },
    {
     "name": "stderr",
     "output_type": "stream",
     "text": [
      "Request for URL https://ergast.com/api/f1/2023/3/results.json failed; using cached response\n",
      "Traceback (most recent call last):\n",
      "  File \"c:\\Users\\arkre\\AppData\\Local\\Programs\\Python\\Python310\\lib\\site-packages\\requests_cache\\session.py\", line 285, in _resend\n",
      "    response = self._send_and_cache(request, actions, cached_response, **kwargs)\n",
      "  File \"c:\\Users\\arkre\\AppData\\Local\\Programs\\Python\\Python310\\lib\\site-packages\\requests_cache\\session.py\", line 253, in _send_and_cache\n",
      "    response = super().send(request, **kwargs)\n",
      "  File \"c:\\Users\\arkre\\AppData\\Local\\Programs\\Python\\Python310\\lib\\site-packages\\fastf1\\req.py\", line 125, in send\n",
      "    lim.limit()\n",
      "  File \"c:\\Users\\arkre\\AppData\\Local\\Programs\\Python\\Python310\\lib\\site-packages\\fastf1\\req.py\", line 102, in limit\n",
      "    raise RateLimitExceededError(self._info)\n",
      "fastf1.req.RateLimitExceededError: ergast.com: 200 calls/h\n",
      "Request for URL https://ergast.com/api/f1/2023/3/laps/1.json failed; using cached response\n",
      "Traceback (most recent call last):\n",
      "  File \"c:\\Users\\arkre\\AppData\\Local\\Programs\\Python\\Python310\\lib\\site-packages\\requests_cache\\session.py\", line 285, in _resend\n",
      "    response = self._send_and_cache(request, actions, cached_response, **kwargs)\n",
      "  File \"c:\\Users\\arkre\\AppData\\Local\\Programs\\Python\\Python310\\lib\\site-packages\\requests_cache\\session.py\", line 253, in _send_and_cache\n",
      "    response = super().send(request, **kwargs)\n",
      "  File \"c:\\Users\\arkre\\AppData\\Local\\Programs\\Python\\Python310\\lib\\site-packages\\fastf1\\req.py\", line 125, in send\n",
      "    lim.limit()\n",
      "  File \"c:\\Users\\arkre\\AppData\\Local\\Programs\\Python\\Python310\\lib\\site-packages\\fastf1\\req.py\", line 102, in limit\n",
      "    raise RateLimitExceededError(self._info)\n",
      "fastf1.req.RateLimitExceededError: ergast.com: 200 calls/h\n",
      "Request for URL https://ergast.com/api/f1/2023/4/results.json failed; using cached response\n",
      "Traceback (most recent call last):\n",
      "  File \"c:\\Users\\arkre\\AppData\\Local\\Programs\\Python\\Python310\\lib\\site-packages\\requests_cache\\session.py\", line 285, in _resend\n",
      "    response = self._send_and_cache(request, actions, cached_response, **kwargs)\n",
      "  File \"c:\\Users\\arkre\\AppData\\Local\\Programs\\Python\\Python310\\lib\\site-packages\\requests_cache\\session.py\", line 253, in _send_and_cache\n",
      "    response = super().send(request, **kwargs)\n",
      "  File \"c:\\Users\\arkre\\AppData\\Local\\Programs\\Python\\Python310\\lib\\site-packages\\fastf1\\req.py\", line 125, in send\n",
      "    lim.limit()\n",
      "  File \"c:\\Users\\arkre\\AppData\\Local\\Programs\\Python\\Python310\\lib\\site-packages\\fastf1\\req.py\", line 102, in limit\n",
      "    raise RateLimitExceededError(self._info)\n",
      "fastf1.req.RateLimitExceededError: ergast.com: 200 calls/h\n"
     ]
    },
    {
     "name": "stdout",
     "output_type": "stream",
     "text": [
      "Melbourne, Year: 2023\n"
     ]
    },
    {
     "name": "stderr",
     "output_type": "stream",
     "text": [
      "Request for URL https://ergast.com/api/f1/2023/4/laps/1.json failed; using cached response\n",
      "Traceback (most recent call last):\n",
      "  File \"c:\\Users\\arkre\\AppData\\Local\\Programs\\Python\\Python310\\lib\\site-packages\\requests_cache\\session.py\", line 285, in _resend\n",
      "    response = self._send_and_cache(request, actions, cached_response, **kwargs)\n",
      "  File \"c:\\Users\\arkre\\AppData\\Local\\Programs\\Python\\Python310\\lib\\site-packages\\requests_cache\\session.py\", line 253, in _send_and_cache\n",
      "    response = super().send(request, **kwargs)\n",
      "  File \"c:\\Users\\arkre\\AppData\\Local\\Programs\\Python\\Python310\\lib\\site-packages\\fastf1\\req.py\", line 125, in send\n",
      "    lim.limit()\n",
      "  File \"c:\\Users\\arkre\\AppData\\Local\\Programs\\Python\\Python310\\lib\\site-packages\\fastf1\\req.py\", line 102, in limit\n",
      "    raise RateLimitExceededError(self._info)\n",
      "fastf1.req.RateLimitExceededError: ergast.com: 200 calls/h\n"
     ]
    },
    {
     "name": "stdout",
     "output_type": "stream",
     "text": [
      "Baku, Year: 2023\n"
     ]
    },
    {
     "name": "stderr",
     "output_type": "stream",
     "text": [
      "Request for URL https://ergast.com/api/f1/2023/5/results.json failed; using cached response\n",
      "Traceback (most recent call last):\n",
      "  File \"c:\\Users\\arkre\\AppData\\Local\\Programs\\Python\\Python310\\lib\\site-packages\\requests_cache\\session.py\", line 285, in _resend\n",
      "    response = self._send_and_cache(request, actions, cached_response, **kwargs)\n",
      "  File \"c:\\Users\\arkre\\AppData\\Local\\Programs\\Python\\Python310\\lib\\site-packages\\requests_cache\\session.py\", line 253, in _send_and_cache\n",
      "    response = super().send(request, **kwargs)\n",
      "  File \"c:\\Users\\arkre\\AppData\\Local\\Programs\\Python\\Python310\\lib\\site-packages\\fastf1\\req.py\", line 125, in send\n",
      "    lim.limit()\n",
      "  File \"c:\\Users\\arkre\\AppData\\Local\\Programs\\Python\\Python310\\lib\\site-packages\\fastf1\\req.py\", line 102, in limit\n",
      "    raise RateLimitExceededError(self._info)\n",
      "fastf1.req.RateLimitExceededError: ergast.com: 200 calls/h\n",
      "Request for URL https://ergast.com/api/f1/2023/5/laps/1.json failed; using cached response\n",
      "Traceback (most recent call last):\n",
      "  File \"c:\\Users\\arkre\\AppData\\Local\\Programs\\Python\\Python310\\lib\\site-packages\\requests_cache\\session.py\", line 285, in _resend\n",
      "    response = self._send_and_cache(request, actions, cached_response, **kwargs)\n",
      "  File \"c:\\Users\\arkre\\AppData\\Local\\Programs\\Python\\Python310\\lib\\site-packages\\requests_cache\\session.py\", line 253, in _send_and_cache\n",
      "    response = super().send(request, **kwargs)\n",
      "  File \"c:\\Users\\arkre\\AppData\\Local\\Programs\\Python\\Python310\\lib\\site-packages\\fastf1\\req.py\", line 125, in send\n",
      "    lim.limit()\n",
      "  File \"c:\\Users\\arkre\\AppData\\Local\\Programs\\Python\\Python310\\lib\\site-packages\\fastf1\\req.py\", line 102, in limit\n",
      "    raise RateLimitExceededError(self._info)\n",
      "fastf1.req.RateLimitExceededError: ergast.com: 200 calls/h\n"
     ]
    },
    {
     "name": "stdout",
     "output_type": "stream",
     "text": [
      "Miami, Year: 2023\n"
     ]
    },
    {
     "name": "stderr",
     "output_type": "stream",
     "text": [
      "Request for URL https://ergast.com/api/f1/2023/6/results.json failed; using cached response\n",
      "Traceback (most recent call last):\n",
      "  File \"c:\\Users\\arkre\\AppData\\Local\\Programs\\Python\\Python310\\lib\\site-packages\\requests_cache\\session.py\", line 285, in _resend\n",
      "    response = self._send_and_cache(request, actions, cached_response, **kwargs)\n",
      "  File \"c:\\Users\\arkre\\AppData\\Local\\Programs\\Python\\Python310\\lib\\site-packages\\requests_cache\\session.py\", line 253, in _send_and_cache\n",
      "    response = super().send(request, **kwargs)\n",
      "  File \"c:\\Users\\arkre\\AppData\\Local\\Programs\\Python\\Python310\\lib\\site-packages\\fastf1\\req.py\", line 125, in send\n",
      "    lim.limit()\n",
      "  File \"c:\\Users\\arkre\\AppData\\Local\\Programs\\Python\\Python310\\lib\\site-packages\\fastf1\\req.py\", line 102, in limit\n",
      "    raise RateLimitExceededError(self._info)\n",
      "fastf1.req.RateLimitExceededError: ergast.com: 200 calls/h\n",
      "Request for URL https://ergast.com/api/f1/2023/6/laps/1.json failed; using cached response\n",
      "Traceback (most recent call last):\n",
      "  File \"c:\\Users\\arkre\\AppData\\Local\\Programs\\Python\\Python310\\lib\\site-packages\\requests_cache\\session.py\", line 285, in _resend\n",
      "    response = self._send_and_cache(request, actions, cached_response, **kwargs)\n",
      "  File \"c:\\Users\\arkre\\AppData\\Local\\Programs\\Python\\Python310\\lib\\site-packages\\requests_cache\\session.py\", line 253, in _send_and_cache\n",
      "    response = super().send(request, **kwargs)\n",
      "  File \"c:\\Users\\arkre\\AppData\\Local\\Programs\\Python\\Python310\\lib\\site-packages\\fastf1\\req.py\", line 125, in send\n",
      "    lim.limit()\n",
      "  File \"c:\\Users\\arkre\\AppData\\Local\\Programs\\Python\\Python310\\lib\\site-packages\\fastf1\\req.py\", line 102, in limit\n",
      "    raise RateLimitExceededError(self._info)\n",
      "fastf1.req.RateLimitExceededError: ergast.com: 200 calls/h\n"
     ]
    },
    {
     "name": "stdout",
     "output_type": "stream",
     "text": [
      "Monaco, Year: 2023\n"
     ]
    },
    {
     "name": "stderr",
     "output_type": "stream",
     "text": [
      "Request for URL https://ergast.com/api/f1/2023/7/results.json failed; using cached response\n",
      "Traceback (most recent call last):\n",
      "  File \"c:\\Users\\arkre\\AppData\\Local\\Programs\\Python\\Python310\\lib\\site-packages\\requests_cache\\session.py\", line 285, in _resend\n",
      "    response = self._send_and_cache(request, actions, cached_response, **kwargs)\n",
      "  File \"c:\\Users\\arkre\\AppData\\Local\\Programs\\Python\\Python310\\lib\\site-packages\\requests_cache\\session.py\", line 253, in _send_and_cache\n",
      "    response = super().send(request, **kwargs)\n",
      "  File \"c:\\Users\\arkre\\AppData\\Local\\Programs\\Python\\Python310\\lib\\site-packages\\fastf1\\req.py\", line 125, in send\n",
      "    lim.limit()\n",
      "  File \"c:\\Users\\arkre\\AppData\\Local\\Programs\\Python\\Python310\\lib\\site-packages\\fastf1\\req.py\", line 102, in limit\n",
      "    raise RateLimitExceededError(self._info)\n",
      "fastf1.req.RateLimitExceededError: ergast.com: 200 calls/h\n",
      "Request for URL https://ergast.com/api/f1/2023/7/laps/1.json failed; using cached response\n",
      "Traceback (most recent call last):\n",
      "  File \"c:\\Users\\arkre\\AppData\\Local\\Programs\\Python\\Python310\\lib\\site-packages\\requests_cache\\session.py\", line 285, in _resend\n",
      "    response = self._send_and_cache(request, actions, cached_response, **kwargs)\n",
      "  File \"c:\\Users\\arkre\\AppData\\Local\\Programs\\Python\\Python310\\lib\\site-packages\\requests_cache\\session.py\", line 253, in _send_and_cache\n",
      "    response = super().send(request, **kwargs)\n",
      "  File \"c:\\Users\\arkre\\AppData\\Local\\Programs\\Python\\Python310\\lib\\site-packages\\fastf1\\req.py\", line 125, in send\n",
      "    lim.limit()\n",
      "  File \"c:\\Users\\arkre\\AppData\\Local\\Programs\\Python\\Python310\\lib\\site-packages\\fastf1\\req.py\", line 102, in limit\n",
      "    raise RateLimitExceededError(self._info)\n",
      "fastf1.req.RateLimitExceededError: ergast.com: 200 calls/h\n"
     ]
    },
    {
     "name": "stdout",
     "output_type": "stream",
     "text": [
      "Barcelona, Year: 2023\n"
     ]
    },
    {
     "name": "stderr",
     "output_type": "stream",
     "text": [
      "Request for URL https://ergast.com/api/f1/2023/8/results.json failed; using cached response\n",
      "Traceback (most recent call last):\n",
      "  File \"c:\\Users\\arkre\\AppData\\Local\\Programs\\Python\\Python310\\lib\\site-packages\\requests_cache\\session.py\", line 285, in _resend\n",
      "    response = self._send_and_cache(request, actions, cached_response, **kwargs)\n",
      "  File \"c:\\Users\\arkre\\AppData\\Local\\Programs\\Python\\Python310\\lib\\site-packages\\requests_cache\\session.py\", line 253, in _send_and_cache\n",
      "    response = super().send(request, **kwargs)\n",
      "  File \"c:\\Users\\arkre\\AppData\\Local\\Programs\\Python\\Python310\\lib\\site-packages\\fastf1\\req.py\", line 125, in send\n",
      "    lim.limit()\n",
      "  File \"c:\\Users\\arkre\\AppData\\Local\\Programs\\Python\\Python310\\lib\\site-packages\\fastf1\\req.py\", line 102, in limit\n",
      "    raise RateLimitExceededError(self._info)\n",
      "fastf1.req.RateLimitExceededError: ergast.com: 200 calls/h\n",
      "Request for URL https://ergast.com/api/f1/2023/8/laps/1.json failed; using cached response\n",
      "Traceback (most recent call last):\n",
      "  File \"c:\\Users\\arkre\\AppData\\Local\\Programs\\Python\\Python310\\lib\\site-packages\\requests_cache\\session.py\", line 285, in _resend\n",
      "    response = self._send_and_cache(request, actions, cached_response, **kwargs)\n",
      "  File \"c:\\Users\\arkre\\AppData\\Local\\Programs\\Python\\Python310\\lib\\site-packages\\requests_cache\\session.py\", line 253, in _send_and_cache\n",
      "    response = super().send(request, **kwargs)\n",
      "  File \"c:\\Users\\arkre\\AppData\\Local\\Programs\\Python\\Python310\\lib\\site-packages\\fastf1\\req.py\", line 125, in send\n",
      "    lim.limit()\n",
      "  File \"c:\\Users\\arkre\\AppData\\Local\\Programs\\Python\\Python310\\lib\\site-packages\\fastf1\\req.py\", line 102, in limit\n",
      "    raise RateLimitExceededError(self._info)\n",
      "fastf1.req.RateLimitExceededError: ergast.com: 200 calls/h\n",
      "Request for URL https://ergast.com/api/f1/2023/9/results.json failed; using cached response\n",
      "Traceback (most recent call last):\n",
      "  File \"c:\\Users\\arkre\\AppData\\Local\\Programs\\Python\\Python310\\lib\\site-packages\\requests_cache\\session.py\", line 285, in _resend\n",
      "    response = self._send_and_cache(request, actions, cached_response, **kwargs)\n",
      "  File \"c:\\Users\\arkre\\AppData\\Local\\Programs\\Python\\Python310\\lib\\site-packages\\requests_cache\\session.py\", line 253, in _send_and_cache\n",
      "    response = super().send(request, **kwargs)\n",
      "  File \"c:\\Users\\arkre\\AppData\\Local\\Programs\\Python\\Python310\\lib\\site-packages\\fastf1\\req.py\", line 125, in send\n",
      "    lim.limit()\n",
      "  File \"c:\\Users\\arkre\\AppData\\Local\\Programs\\Python\\Python310\\lib\\site-packages\\fastf1\\req.py\", line 102, in limit\n",
      "    raise RateLimitExceededError(self._info)\n",
      "fastf1.req.RateLimitExceededError: ergast.com: 200 calls/h\n"
     ]
    },
    {
     "name": "stdout",
     "output_type": "stream",
     "text": [
      "Montréal, Year: 2023\n"
     ]
    },
    {
     "name": "stderr",
     "output_type": "stream",
     "text": [
      "Request for URL https://ergast.com/api/f1/2023/9/laps/1.json failed; using cached response\n",
      "Traceback (most recent call last):\n",
      "  File \"c:\\Users\\arkre\\AppData\\Local\\Programs\\Python\\Python310\\lib\\site-packages\\requests_cache\\session.py\", line 285, in _resend\n",
      "    response = self._send_and_cache(request, actions, cached_response, **kwargs)\n",
      "  File \"c:\\Users\\arkre\\AppData\\Local\\Programs\\Python\\Python310\\lib\\site-packages\\requests_cache\\session.py\", line 253, in _send_and_cache\n",
      "    response = super().send(request, **kwargs)\n",
      "  File \"c:\\Users\\arkre\\AppData\\Local\\Programs\\Python\\Python310\\lib\\site-packages\\fastf1\\req.py\", line 125, in send\n",
      "    lim.limit()\n",
      "  File \"c:\\Users\\arkre\\AppData\\Local\\Programs\\Python\\Python310\\lib\\site-packages\\fastf1\\req.py\", line 102, in limit\n",
      "    raise RateLimitExceededError(self._info)\n",
      "fastf1.req.RateLimitExceededError: ergast.com: 200 calls/h\n"
     ]
    },
    {
     "name": "stdout",
     "output_type": "stream",
     "text": [
      "Spielberg, Year: 2023\n"
     ]
    },
    {
     "name": "stderr",
     "output_type": "stream",
     "text": [
      "Request for URL https://ergast.com/api/f1/2023/10/results.json failed; using cached response\n",
      "Traceback (most recent call last):\n",
      "  File \"c:\\Users\\arkre\\AppData\\Local\\Programs\\Python\\Python310\\lib\\site-packages\\requests_cache\\session.py\", line 285, in _resend\n",
      "    response = self._send_and_cache(request, actions, cached_response, **kwargs)\n",
      "  File \"c:\\Users\\arkre\\AppData\\Local\\Programs\\Python\\Python310\\lib\\site-packages\\requests_cache\\session.py\", line 253, in _send_and_cache\n",
      "    response = super().send(request, **kwargs)\n",
      "  File \"c:\\Users\\arkre\\AppData\\Local\\Programs\\Python\\Python310\\lib\\site-packages\\fastf1\\req.py\", line 125, in send\n",
      "    lim.limit()\n",
      "  File \"c:\\Users\\arkre\\AppData\\Local\\Programs\\Python\\Python310\\lib\\site-packages\\fastf1\\req.py\", line 102, in limit\n",
      "    raise RateLimitExceededError(self._info)\n",
      "fastf1.req.RateLimitExceededError: ergast.com: 200 calls/h\n",
      "Request for URL https://ergast.com/api/f1/2023/10/laps/1.json failed; using cached response\n",
      "Traceback (most recent call last):\n",
      "  File \"c:\\Users\\arkre\\AppData\\Local\\Programs\\Python\\Python310\\lib\\site-packages\\requests_cache\\session.py\", line 285, in _resend\n",
      "    response = self._send_and_cache(request, actions, cached_response, **kwargs)\n",
      "  File \"c:\\Users\\arkre\\AppData\\Local\\Programs\\Python\\Python310\\lib\\site-packages\\requests_cache\\session.py\", line 253, in _send_and_cache\n",
      "    response = super().send(request, **kwargs)\n",
      "  File \"c:\\Users\\arkre\\AppData\\Local\\Programs\\Python\\Python310\\lib\\site-packages\\fastf1\\req.py\", line 125, in send\n",
      "    lim.limit()\n",
      "  File \"c:\\Users\\arkre\\AppData\\Local\\Programs\\Python\\Python310\\lib\\site-packages\\fastf1\\req.py\", line 102, in limit\n",
      "    raise RateLimitExceededError(self._info)\n",
      "fastf1.req.RateLimitExceededError: ergast.com: 200 calls/h\n",
      "Request for URL https://ergast.com/api/f1/2023/11/results.json failed; using cached response\n",
      "Traceback (most recent call last):\n",
      "  File \"c:\\Users\\arkre\\AppData\\Local\\Programs\\Python\\Python310\\lib\\site-packages\\requests_cache\\session.py\", line 285, in _resend\n",
      "    response = self._send_and_cache(request, actions, cached_response, **kwargs)\n",
      "  File \"c:\\Users\\arkre\\AppData\\Local\\Programs\\Python\\Python310\\lib\\site-packages\\requests_cache\\session.py\", line 253, in _send_and_cache\n",
      "    response = super().send(request, **kwargs)\n",
      "  File \"c:\\Users\\arkre\\AppData\\Local\\Programs\\Python\\Python310\\lib\\site-packages\\fastf1\\req.py\", line 125, in send\n",
      "    lim.limit()\n",
      "  File \"c:\\Users\\arkre\\AppData\\Local\\Programs\\Python\\Python310\\lib\\site-packages\\fastf1\\req.py\", line 102, in limit\n",
      "    raise RateLimitExceededError(self._info)\n",
      "fastf1.req.RateLimitExceededError: ergast.com: 200 calls/h\n"
     ]
    },
    {
     "name": "stdout",
     "output_type": "stream",
     "text": [
      "Silverstone, Year: 2023\n"
     ]
    },
    {
     "name": "stderr",
     "output_type": "stream",
     "text": [
      "Request for URL https://ergast.com/api/f1/2023/11/laps/1.json failed; using cached response\n",
      "Traceback (most recent call last):\n",
      "  File \"c:\\Users\\arkre\\AppData\\Local\\Programs\\Python\\Python310\\lib\\site-packages\\requests_cache\\session.py\", line 285, in _resend\n",
      "    response = self._send_and_cache(request, actions, cached_response, **kwargs)\n",
      "  File \"c:\\Users\\arkre\\AppData\\Local\\Programs\\Python\\Python310\\lib\\site-packages\\requests_cache\\session.py\", line 253, in _send_and_cache\n",
      "    response = super().send(request, **kwargs)\n",
      "  File \"c:\\Users\\arkre\\AppData\\Local\\Programs\\Python\\Python310\\lib\\site-packages\\fastf1\\req.py\", line 125, in send\n",
      "    lim.limit()\n",
      "  File \"c:\\Users\\arkre\\AppData\\Local\\Programs\\Python\\Python310\\lib\\site-packages\\fastf1\\req.py\", line 102, in limit\n",
      "    raise RateLimitExceededError(self._info)\n",
      "fastf1.req.RateLimitExceededError: ergast.com: 200 calls/h\n"
     ]
    },
    {
     "name": "stdout",
     "output_type": "stream",
     "text": [
      "Budapest, Year: 2023\n"
     ]
    },
    {
     "name": "stderr",
     "output_type": "stream",
     "text": [
      "Request for URL https://ergast.com/api/f1/2023/12/results.json failed; using cached response\n",
      "Traceback (most recent call last):\n",
      "  File \"c:\\Users\\arkre\\AppData\\Local\\Programs\\Python\\Python310\\lib\\site-packages\\requests_cache\\session.py\", line 285, in _resend\n",
      "    response = self._send_and_cache(request, actions, cached_response, **kwargs)\n",
      "  File \"c:\\Users\\arkre\\AppData\\Local\\Programs\\Python\\Python310\\lib\\site-packages\\requests_cache\\session.py\", line 253, in _send_and_cache\n",
      "    response = super().send(request, **kwargs)\n",
      "  File \"c:\\Users\\arkre\\AppData\\Local\\Programs\\Python\\Python310\\lib\\site-packages\\fastf1\\req.py\", line 125, in send\n",
      "    lim.limit()\n",
      "  File \"c:\\Users\\arkre\\AppData\\Local\\Programs\\Python\\Python310\\lib\\site-packages\\fastf1\\req.py\", line 102, in limit\n",
      "    raise RateLimitExceededError(self._info)\n",
      "fastf1.req.RateLimitExceededError: ergast.com: 200 calls/h\n",
      "Request for URL https://ergast.com/api/f1/2023/12/laps/1.json failed; using cached response\n",
      "Traceback (most recent call last):\n",
      "  File \"c:\\Users\\arkre\\AppData\\Local\\Programs\\Python\\Python310\\lib\\site-packages\\requests_cache\\session.py\", line 285, in _resend\n",
      "    response = self._send_and_cache(request, actions, cached_response, **kwargs)\n",
      "  File \"c:\\Users\\arkre\\AppData\\Local\\Programs\\Python\\Python310\\lib\\site-packages\\requests_cache\\session.py\", line 253, in _send_and_cache\n",
      "    response = super().send(request, **kwargs)\n",
      "  File \"c:\\Users\\arkre\\AppData\\Local\\Programs\\Python\\Python310\\lib\\site-packages\\fastf1\\req.py\", line 125, in send\n",
      "    lim.limit()\n",
      "  File \"c:\\Users\\arkre\\AppData\\Local\\Programs\\Python\\Python310\\lib\\site-packages\\fastf1\\req.py\", line 102, in limit\n",
      "    raise RateLimitExceededError(self._info)\n",
      "fastf1.req.RateLimitExceededError: ergast.com: 200 calls/h\n"
     ]
    },
    {
     "name": "stdout",
     "output_type": "stream",
     "text": [
      "Spa-Francorchamps, Year: 2023\n"
     ]
    },
    {
     "name": "stderr",
     "output_type": "stream",
     "text": [
      "Request for URL https://ergast.com/api/f1/2023/13/results.json failed; using cached response\n",
      "Traceback (most recent call last):\n",
      "  File \"c:\\Users\\arkre\\AppData\\Local\\Programs\\Python\\Python310\\lib\\site-packages\\requests_cache\\session.py\", line 285, in _resend\n",
      "    response = self._send_and_cache(request, actions, cached_response, **kwargs)\n",
      "  File \"c:\\Users\\arkre\\AppData\\Local\\Programs\\Python\\Python310\\lib\\site-packages\\requests_cache\\session.py\", line 253, in _send_and_cache\n",
      "    response = super().send(request, **kwargs)\n",
      "  File \"c:\\Users\\arkre\\AppData\\Local\\Programs\\Python\\Python310\\lib\\site-packages\\fastf1\\req.py\", line 125, in send\n",
      "    lim.limit()\n",
      "  File \"c:\\Users\\arkre\\AppData\\Local\\Programs\\Python\\Python310\\lib\\site-packages\\fastf1\\req.py\", line 102, in limit\n",
      "    raise RateLimitExceededError(self._info)\n",
      "fastf1.req.RateLimitExceededError: ergast.com: 200 calls/h\n",
      "Request for URL https://ergast.com/api/f1/2023/13/laps/1.json failed; using cached response\n",
      "Traceback (most recent call last):\n",
      "  File \"c:\\Users\\arkre\\AppData\\Local\\Programs\\Python\\Python310\\lib\\site-packages\\requests_cache\\session.py\", line 285, in _resend\n",
      "    response = self._send_and_cache(request, actions, cached_response, **kwargs)\n",
      "  File \"c:\\Users\\arkre\\AppData\\Local\\Programs\\Python\\Python310\\lib\\site-packages\\requests_cache\\session.py\", line 253, in _send_and_cache\n",
      "    response = super().send(request, **kwargs)\n",
      "  File \"c:\\Users\\arkre\\AppData\\Local\\Programs\\Python\\Python310\\lib\\site-packages\\fastf1\\req.py\", line 125, in send\n",
      "    lim.limit()\n",
      "  File \"c:\\Users\\arkre\\AppData\\Local\\Programs\\Python\\Python310\\lib\\site-packages\\fastf1\\req.py\", line 102, in limit\n",
      "    raise RateLimitExceededError(self._info)\n",
      "fastf1.req.RateLimitExceededError: ergast.com: 200 calls/h\n",
      "Request for URL https://ergast.com/api/f1/2023/14/results.json failed; using cached response\n",
      "Traceback (most recent call last):\n",
      "  File \"c:\\Users\\arkre\\AppData\\Local\\Programs\\Python\\Python310\\lib\\site-packages\\requests_cache\\session.py\", line 285, in _resend\n",
      "    response = self._send_and_cache(request, actions, cached_response, **kwargs)\n",
      "  File \"c:\\Users\\arkre\\AppData\\Local\\Programs\\Python\\Python310\\lib\\site-packages\\requests_cache\\session.py\", line 253, in _send_and_cache\n",
      "    response = super().send(request, **kwargs)\n",
      "  File \"c:\\Users\\arkre\\AppData\\Local\\Programs\\Python\\Python310\\lib\\site-packages\\fastf1\\req.py\", line 125, in send\n",
      "    lim.limit()\n",
      "  File \"c:\\Users\\arkre\\AppData\\Local\\Programs\\Python\\Python310\\lib\\site-packages\\fastf1\\req.py\", line 102, in limit\n",
      "    raise RateLimitExceededError(self._info)\n",
      "fastf1.req.RateLimitExceededError: ergast.com: 200 calls/h\n"
     ]
    },
    {
     "name": "stdout",
     "output_type": "stream",
     "text": [
      "Zandvoort, Year: 2023\n"
     ]
    },
    {
     "name": "stderr",
     "output_type": "stream",
     "text": [
      "Request for URL https://ergast.com/api/f1/2023/14/laps/1.json failed; using cached response\n",
      "Traceback (most recent call last):\n",
      "  File \"c:\\Users\\arkre\\AppData\\Local\\Programs\\Python\\Python310\\lib\\site-packages\\requests_cache\\session.py\", line 285, in _resend\n",
      "    response = self._send_and_cache(request, actions, cached_response, **kwargs)\n",
      "  File \"c:\\Users\\arkre\\AppData\\Local\\Programs\\Python\\Python310\\lib\\site-packages\\requests_cache\\session.py\", line 253, in _send_and_cache\n",
      "    response = super().send(request, **kwargs)\n",
      "  File \"c:\\Users\\arkre\\AppData\\Local\\Programs\\Python\\Python310\\lib\\site-packages\\fastf1\\req.py\", line 125, in send\n",
      "    lim.limit()\n",
      "  File \"c:\\Users\\arkre\\AppData\\Local\\Programs\\Python\\Python310\\lib\\site-packages\\fastf1\\req.py\", line 102, in limit\n",
      "    raise RateLimitExceededError(self._info)\n",
      "fastf1.req.RateLimitExceededError: ergast.com: 200 calls/h\n",
      "Request for URL https://ergast.com/api/f1/2023/15/results.json failed; using cached response\n",
      "Traceback (most recent call last):\n",
      "  File \"c:\\Users\\arkre\\AppData\\Local\\Programs\\Python\\Python310\\lib\\site-packages\\requests_cache\\session.py\", line 285, in _resend\n",
      "    response = self._send_and_cache(request, actions, cached_response, **kwargs)\n",
      "  File \"c:\\Users\\arkre\\AppData\\Local\\Programs\\Python\\Python310\\lib\\site-packages\\requests_cache\\session.py\", line 253, in _send_and_cache\n",
      "    response = super().send(request, **kwargs)\n",
      "  File \"c:\\Users\\arkre\\AppData\\Local\\Programs\\Python\\Python310\\lib\\site-packages\\fastf1\\req.py\", line 125, in send\n",
      "    lim.limit()\n",
      "  File \"c:\\Users\\arkre\\AppData\\Local\\Programs\\Python\\Python310\\lib\\site-packages\\fastf1\\req.py\", line 102, in limit\n",
      "    raise RateLimitExceededError(self._info)\n",
      "fastf1.req.RateLimitExceededError: ergast.com: 200 calls/h\n"
     ]
    },
    {
     "name": "stdout",
     "output_type": "stream",
     "text": [
      "Monza, Year: 2023\n"
     ]
    },
    {
     "name": "stderr",
     "output_type": "stream",
     "text": [
      "Request for URL https://ergast.com/api/f1/2023/15/laps/1.json failed; using cached response\n",
      "Traceback (most recent call last):\n",
      "  File \"c:\\Users\\arkre\\AppData\\Local\\Programs\\Python\\Python310\\lib\\site-packages\\requests_cache\\session.py\", line 285, in _resend\n",
      "    response = self._send_and_cache(request, actions, cached_response, **kwargs)\n",
      "  File \"c:\\Users\\arkre\\AppData\\Local\\Programs\\Python\\Python310\\lib\\site-packages\\requests_cache\\session.py\", line 253, in _send_and_cache\n",
      "    response = super().send(request, **kwargs)\n",
      "  File \"c:\\Users\\arkre\\AppData\\Local\\Programs\\Python\\Python310\\lib\\site-packages\\fastf1\\req.py\", line 125, in send\n",
      "    lim.limit()\n",
      "  File \"c:\\Users\\arkre\\AppData\\Local\\Programs\\Python\\Python310\\lib\\site-packages\\fastf1\\req.py\", line 102, in limit\n",
      "    raise RateLimitExceededError(self._info)\n",
      "fastf1.req.RateLimitExceededError: ergast.com: 200 calls/h\n",
      "Request for URL https://ergast.com/api/f1/2023/16/results.json failed; using cached response\n",
      "Traceback (most recent call last):\n",
      "  File \"c:\\Users\\arkre\\AppData\\Local\\Programs\\Python\\Python310\\lib\\site-packages\\requests_cache\\session.py\", line 285, in _resend\n",
      "    response = self._send_and_cache(request, actions, cached_response, **kwargs)\n",
      "  File \"c:\\Users\\arkre\\AppData\\Local\\Programs\\Python\\Python310\\lib\\site-packages\\requests_cache\\session.py\", line 253, in _send_and_cache\n",
      "    response = super().send(request, **kwargs)\n",
      "  File \"c:\\Users\\arkre\\AppData\\Local\\Programs\\Python\\Python310\\lib\\site-packages\\fastf1\\req.py\", line 125, in send\n",
      "    lim.limit()\n",
      "  File \"c:\\Users\\arkre\\AppData\\Local\\Programs\\Python\\Python310\\lib\\site-packages\\fastf1\\req.py\", line 102, in limit\n",
      "    raise RateLimitExceededError(self._info)\n",
      "fastf1.req.RateLimitExceededError: ergast.com: 200 calls/h\n"
     ]
    },
    {
     "name": "stdout",
     "output_type": "stream",
     "text": [
      "Marina Bay, Year: 2023\n"
     ]
    },
    {
     "name": "stderr",
     "output_type": "stream",
     "text": [
      "Request for URL https://ergast.com/api/f1/2023/16/laps/1.json failed; using cached response\n",
      "Traceback (most recent call last):\n",
      "  File \"c:\\Users\\arkre\\AppData\\Local\\Programs\\Python\\Python310\\lib\\site-packages\\requests_cache\\session.py\", line 285, in _resend\n",
      "    response = self._send_and_cache(request, actions, cached_response, **kwargs)\n",
      "  File \"c:\\Users\\arkre\\AppData\\Local\\Programs\\Python\\Python310\\lib\\site-packages\\requests_cache\\session.py\", line 253, in _send_and_cache\n",
      "    response = super().send(request, **kwargs)\n",
      "  File \"c:\\Users\\arkre\\AppData\\Local\\Programs\\Python\\Python310\\lib\\site-packages\\fastf1\\req.py\", line 125, in send\n",
      "    lim.limit()\n",
      "  File \"c:\\Users\\arkre\\AppData\\Local\\Programs\\Python\\Python310\\lib\\site-packages\\fastf1\\req.py\", line 102, in limit\n",
      "    raise RateLimitExceededError(self._info)\n",
      "fastf1.req.RateLimitExceededError: ergast.com: 200 calls/h\n",
      "Request for URL https://ergast.com/api/f1/2023/17/results.json failed; using cached response\n",
      "Traceback (most recent call last):\n",
      "  File \"c:\\Users\\arkre\\AppData\\Local\\Programs\\Python\\Python310\\lib\\site-packages\\requests_cache\\session.py\", line 285, in _resend\n",
      "    response = self._send_and_cache(request, actions, cached_response, **kwargs)\n",
      "  File \"c:\\Users\\arkre\\AppData\\Local\\Programs\\Python\\Python310\\lib\\site-packages\\requests_cache\\session.py\", line 253, in _send_and_cache\n",
      "    response = super().send(request, **kwargs)\n",
      "  File \"c:\\Users\\arkre\\AppData\\Local\\Programs\\Python\\Python310\\lib\\site-packages\\fastf1\\req.py\", line 125, in send\n",
      "    lim.limit()\n",
      "  File \"c:\\Users\\arkre\\AppData\\Local\\Programs\\Python\\Python310\\lib\\site-packages\\fastf1\\req.py\", line 102, in limit\n",
      "    raise RateLimitExceededError(self._info)\n",
      "fastf1.req.RateLimitExceededError: ergast.com: 200 calls/h\n"
     ]
    },
    {
     "name": "stdout",
     "output_type": "stream",
     "text": [
      "Suzuka, Year: 2023\n"
     ]
    },
    {
     "name": "stderr",
     "output_type": "stream",
     "text": [
      "Request for URL https://ergast.com/api/f1/2023/17/laps/1.json failed; using cached response\n",
      "Traceback (most recent call last):\n",
      "  File \"c:\\Users\\arkre\\AppData\\Local\\Programs\\Python\\Python310\\lib\\site-packages\\requests_cache\\session.py\", line 285, in _resend\n",
      "    response = self._send_and_cache(request, actions, cached_response, **kwargs)\n",
      "  File \"c:\\Users\\arkre\\AppData\\Local\\Programs\\Python\\Python310\\lib\\site-packages\\requests_cache\\session.py\", line 253, in _send_and_cache\n",
      "    response = super().send(request, **kwargs)\n",
      "  File \"c:\\Users\\arkre\\AppData\\Local\\Programs\\Python\\Python310\\lib\\site-packages\\fastf1\\req.py\", line 125, in send\n",
      "    lim.limit()\n",
      "  File \"c:\\Users\\arkre\\AppData\\Local\\Programs\\Python\\Python310\\lib\\site-packages\\fastf1\\req.py\", line 102, in limit\n",
      "    raise RateLimitExceededError(self._info)\n",
      "fastf1.req.RateLimitExceededError: ergast.com: 200 calls/h\n"
     ]
    },
    {
     "name": "stdout",
     "output_type": "stream",
     "text": [
      "Lusail, Year: 2023\n"
     ]
    },
    {
     "name": "stderr",
     "output_type": "stream",
     "text": [
      "Request for URL https://ergast.com/api/f1/2023/18/results.json failed; using cached response\n",
      "Traceback (most recent call last):\n",
      "  File \"c:\\Users\\arkre\\AppData\\Local\\Programs\\Python\\Python310\\lib\\site-packages\\requests_cache\\session.py\", line 285, in _resend\n",
      "    response = self._send_and_cache(request, actions, cached_response, **kwargs)\n",
      "  File \"c:\\Users\\arkre\\AppData\\Local\\Programs\\Python\\Python310\\lib\\site-packages\\requests_cache\\session.py\", line 253, in _send_and_cache\n",
      "    response = super().send(request, **kwargs)\n",
      "  File \"c:\\Users\\arkre\\AppData\\Local\\Programs\\Python\\Python310\\lib\\site-packages\\fastf1\\req.py\", line 125, in send\n",
      "    lim.limit()\n",
      "  File \"c:\\Users\\arkre\\AppData\\Local\\Programs\\Python\\Python310\\lib\\site-packages\\fastf1\\req.py\", line 102, in limit\n",
      "    raise RateLimitExceededError(self._info)\n",
      "fastf1.req.RateLimitExceededError: ergast.com: 200 calls/h\n",
      "Request for URL https://ergast.com/api/f1/2023/18/laps/1.json failed; using cached response\n",
      "Traceback (most recent call last):\n",
      "  File \"c:\\Users\\arkre\\AppData\\Local\\Programs\\Python\\Python310\\lib\\site-packages\\requests_cache\\session.py\", line 285, in _resend\n",
      "    response = self._send_and_cache(request, actions, cached_response, **kwargs)\n",
      "  File \"c:\\Users\\arkre\\AppData\\Local\\Programs\\Python\\Python310\\lib\\site-packages\\requests_cache\\session.py\", line 253, in _send_and_cache\n",
      "    response = super().send(request, **kwargs)\n",
      "  File \"c:\\Users\\arkre\\AppData\\Local\\Programs\\Python\\Python310\\lib\\site-packages\\fastf1\\req.py\", line 125, in send\n",
      "    lim.limit()\n",
      "  File \"c:\\Users\\arkre\\AppData\\Local\\Programs\\Python\\Python310\\lib\\site-packages\\fastf1\\req.py\", line 102, in limit\n",
      "    raise RateLimitExceededError(self._info)\n",
      "fastf1.req.RateLimitExceededError: ergast.com: 200 calls/h\n",
      "Request for URL https://ergast.com/api/f1/2023/19/results.json failed; using cached response\n",
      "Traceback (most recent call last):\n",
      "  File \"c:\\Users\\arkre\\AppData\\Local\\Programs\\Python\\Python310\\lib\\site-packages\\requests_cache\\session.py\", line 285, in _resend\n",
      "    response = self._send_and_cache(request, actions, cached_response, **kwargs)\n",
      "  File \"c:\\Users\\arkre\\AppData\\Local\\Programs\\Python\\Python310\\lib\\site-packages\\requests_cache\\session.py\", line 253, in _send_and_cache\n",
      "    response = super().send(request, **kwargs)\n",
      "  File \"c:\\Users\\arkre\\AppData\\Local\\Programs\\Python\\Python310\\lib\\site-packages\\fastf1\\req.py\", line 125, in send\n",
      "    lim.limit()\n",
      "  File \"c:\\Users\\arkre\\AppData\\Local\\Programs\\Python\\Python310\\lib\\site-packages\\fastf1\\req.py\", line 102, in limit\n",
      "    raise RateLimitExceededError(self._info)\n",
      "fastf1.req.RateLimitExceededError: ergast.com: 200 calls/h\n"
     ]
    },
    {
     "name": "stdout",
     "output_type": "stream",
     "text": [
      "Austin, Year: 2023\n"
     ]
    },
    {
     "name": "stderr",
     "output_type": "stream",
     "text": [
      "Request for URL https://ergast.com/api/f1/2023/19/laps/1.json failed; using cached response\n",
      "Traceback (most recent call last):\n",
      "  File \"c:\\Users\\arkre\\AppData\\Local\\Programs\\Python\\Python310\\lib\\site-packages\\requests_cache\\session.py\", line 285, in _resend\n",
      "    response = self._send_and_cache(request, actions, cached_response, **kwargs)\n",
      "  File \"c:\\Users\\arkre\\AppData\\Local\\Programs\\Python\\Python310\\lib\\site-packages\\requests_cache\\session.py\", line 253, in _send_and_cache\n",
      "    response = super().send(request, **kwargs)\n",
      "  File \"c:\\Users\\arkre\\AppData\\Local\\Programs\\Python\\Python310\\lib\\site-packages\\fastf1\\req.py\", line 125, in send\n",
      "    lim.limit()\n",
      "  File \"c:\\Users\\arkre\\AppData\\Local\\Programs\\Python\\Python310\\lib\\site-packages\\fastf1\\req.py\", line 102, in limit\n",
      "    raise RateLimitExceededError(self._info)\n",
      "fastf1.req.RateLimitExceededError: ergast.com: 200 calls/h\n"
     ]
    },
    {
     "name": "stdout",
     "output_type": "stream",
     "text": [
      "Mexico City, Year: 2023\n"
     ]
    },
    {
     "name": "stderr",
     "output_type": "stream",
     "text": [
      "Request for URL https://ergast.com/api/f1/2023/20/results.json failed; using cached response\n",
      "Traceback (most recent call last):\n",
      "  File \"c:\\Users\\arkre\\AppData\\Local\\Programs\\Python\\Python310\\lib\\site-packages\\requests_cache\\session.py\", line 285, in _resend\n",
      "    response = self._send_and_cache(request, actions, cached_response, **kwargs)\n",
      "  File \"c:\\Users\\arkre\\AppData\\Local\\Programs\\Python\\Python310\\lib\\site-packages\\requests_cache\\session.py\", line 253, in _send_and_cache\n",
      "    response = super().send(request, **kwargs)\n",
      "  File \"c:\\Users\\arkre\\AppData\\Local\\Programs\\Python\\Python310\\lib\\site-packages\\fastf1\\req.py\", line 125, in send\n",
      "    lim.limit()\n",
      "  File \"c:\\Users\\arkre\\AppData\\Local\\Programs\\Python\\Python310\\lib\\site-packages\\fastf1\\req.py\", line 102, in limit\n",
      "    raise RateLimitExceededError(self._info)\n",
      "fastf1.req.RateLimitExceededError: ergast.com: 200 calls/h\n",
      "Request for URL https://ergast.com/api/f1/2023/20/laps/1.json failed; using cached response\n",
      "Traceback (most recent call last):\n",
      "  File \"c:\\Users\\arkre\\AppData\\Local\\Programs\\Python\\Python310\\lib\\site-packages\\requests_cache\\session.py\", line 285, in _resend\n",
      "    response = self._send_and_cache(request, actions, cached_response, **kwargs)\n",
      "  File \"c:\\Users\\arkre\\AppData\\Local\\Programs\\Python\\Python310\\lib\\site-packages\\requests_cache\\session.py\", line 253, in _send_and_cache\n",
      "    response = super().send(request, **kwargs)\n",
      "  File \"c:\\Users\\arkre\\AppData\\Local\\Programs\\Python\\Python310\\lib\\site-packages\\fastf1\\req.py\", line 125, in send\n",
      "    lim.limit()\n",
      "  File \"c:\\Users\\arkre\\AppData\\Local\\Programs\\Python\\Python310\\lib\\site-packages\\fastf1\\req.py\", line 102, in limit\n",
      "    raise RateLimitExceededError(self._info)\n",
      "fastf1.req.RateLimitExceededError: ergast.com: 200 calls/h\n"
     ]
    },
    {
     "name": "stdout",
     "output_type": "stream",
     "text": [
      "São Paulo, Year: 2023\n"
     ]
    },
    {
     "name": "stderr",
     "output_type": "stream",
     "text": [
      "Request for URL https://ergast.com/api/f1/2023/21/results.json failed; using cached response\n",
      "Traceback (most recent call last):\n",
      "  File \"c:\\Users\\arkre\\AppData\\Local\\Programs\\Python\\Python310\\lib\\site-packages\\requests_cache\\session.py\", line 285, in _resend\n",
      "    response = self._send_and_cache(request, actions, cached_response, **kwargs)\n",
      "  File \"c:\\Users\\arkre\\AppData\\Local\\Programs\\Python\\Python310\\lib\\site-packages\\requests_cache\\session.py\", line 253, in _send_and_cache\n",
      "    response = super().send(request, **kwargs)\n",
      "  File \"c:\\Users\\arkre\\AppData\\Local\\Programs\\Python\\Python310\\lib\\site-packages\\fastf1\\req.py\", line 125, in send\n",
      "    lim.limit()\n",
      "  File \"c:\\Users\\arkre\\AppData\\Local\\Programs\\Python\\Python310\\lib\\site-packages\\fastf1\\req.py\", line 102, in limit\n",
      "    raise RateLimitExceededError(self._info)\n",
      "fastf1.req.RateLimitExceededError: ergast.com: 200 calls/h\n",
      "Request for URL https://ergast.com/api/f1/2023/21/laps/1.json failed; using cached response\n",
      "Traceback (most recent call last):\n",
      "  File \"c:\\Users\\arkre\\AppData\\Local\\Programs\\Python\\Python310\\lib\\site-packages\\requests_cache\\session.py\", line 285, in _resend\n",
      "    response = self._send_and_cache(request, actions, cached_response, **kwargs)\n",
      "  File \"c:\\Users\\arkre\\AppData\\Local\\Programs\\Python\\Python310\\lib\\site-packages\\requests_cache\\session.py\", line 253, in _send_and_cache\n",
      "    response = super().send(request, **kwargs)\n",
      "  File \"c:\\Users\\arkre\\AppData\\Local\\Programs\\Python\\Python310\\lib\\site-packages\\fastf1\\req.py\", line 125, in send\n",
      "    lim.limit()\n",
      "  File \"c:\\Users\\arkre\\AppData\\Local\\Programs\\Python\\Python310\\lib\\site-packages\\fastf1\\req.py\", line 102, in limit\n",
      "    raise RateLimitExceededError(self._info)\n",
      "fastf1.req.RateLimitExceededError: ergast.com: 200 calls/h\n",
      "Request for URL https://ergast.com/api/f1/2023/22/results.json failed; using cached response\n",
      "Traceback (most recent call last):\n",
      "  File \"c:\\Users\\arkre\\AppData\\Local\\Programs\\Python\\Python310\\lib\\site-packages\\requests_cache\\session.py\", line 285, in _resend\n",
      "    response = self._send_and_cache(request, actions, cached_response, **kwargs)\n",
      "  File \"c:\\Users\\arkre\\AppData\\Local\\Programs\\Python\\Python310\\lib\\site-packages\\requests_cache\\session.py\", line 253, in _send_and_cache\n",
      "    response = super().send(request, **kwargs)\n",
      "  File \"c:\\Users\\arkre\\AppData\\Local\\Programs\\Python\\Python310\\lib\\site-packages\\fastf1\\req.py\", line 125, in send\n",
      "    lim.limit()\n",
      "  File \"c:\\Users\\arkre\\AppData\\Local\\Programs\\Python\\Python310\\lib\\site-packages\\fastf1\\req.py\", line 102, in limit\n",
      "    raise RateLimitExceededError(self._info)\n",
      "fastf1.req.RateLimitExceededError: ergast.com: 200 calls/h\n"
     ]
    },
    {
     "name": "stdout",
     "output_type": "stream",
     "text": [
      "Las Vegas, Year: 2023\n"
     ]
    },
    {
     "name": "stderr",
     "output_type": "stream",
     "text": [
      "Request for URL https://ergast.com/api/f1/2023/22/laps/1.json failed; using cached response\n",
      "Traceback (most recent call last):\n",
      "  File \"c:\\Users\\arkre\\AppData\\Local\\Programs\\Python\\Python310\\lib\\site-packages\\requests_cache\\session.py\", line 285, in _resend\n",
      "    response = self._send_and_cache(request, actions, cached_response, **kwargs)\n",
      "  File \"c:\\Users\\arkre\\AppData\\Local\\Programs\\Python\\Python310\\lib\\site-packages\\requests_cache\\session.py\", line 253, in _send_and_cache\n",
      "    response = super().send(request, **kwargs)\n",
      "  File \"c:\\Users\\arkre\\AppData\\Local\\Programs\\Python\\Python310\\lib\\site-packages\\fastf1\\req.py\", line 125, in send\n",
      "    lim.limit()\n",
      "  File \"c:\\Users\\arkre\\AppData\\Local\\Programs\\Python\\Python310\\lib\\site-packages\\fastf1\\req.py\", line 102, in limit\n",
      "    raise RateLimitExceededError(self._info)\n",
      "fastf1.req.RateLimitExceededError: ergast.com: 200 calls/h\n"
     ]
    },
    {
     "name": "stdout",
     "output_type": "stream",
     "text": [
      "Yas Island, Year: 2023\n"
     ]
    },
    {
     "name": "stderr",
     "output_type": "stream",
     "text": [
      "Request for URL https://ergast.com/api/f1/2024/1/results.json failed; using cached response\n",
      "Traceback (most recent call last):\n",
      "  File \"c:\\Users\\arkre\\AppData\\Local\\Programs\\Python\\Python310\\lib\\site-packages\\requests_cache\\session.py\", line 285, in _resend\n",
      "    response = self._send_and_cache(request, actions, cached_response, **kwargs)\n",
      "  File \"c:\\Users\\arkre\\AppData\\Local\\Programs\\Python\\Python310\\lib\\site-packages\\requests_cache\\session.py\", line 253, in _send_and_cache\n",
      "    response = super().send(request, **kwargs)\n",
      "  File \"c:\\Users\\arkre\\AppData\\Local\\Programs\\Python\\Python310\\lib\\site-packages\\fastf1\\req.py\", line 125, in send\n",
      "    lim.limit()\n",
      "  File \"c:\\Users\\arkre\\AppData\\Local\\Programs\\Python\\Python310\\lib\\site-packages\\fastf1\\req.py\", line 102, in limit\n",
      "    raise RateLimitExceededError(self._info)\n",
      "fastf1.req.RateLimitExceededError: ergast.com: 200 calls/h\n",
      "Request for URL https://ergast.com/api/f1/2024/1/laps/1.json failed; using cached response\n",
      "Traceback (most recent call last):\n",
      "  File \"c:\\Users\\arkre\\AppData\\Local\\Programs\\Python\\Python310\\lib\\site-packages\\requests_cache\\session.py\", line 285, in _resend\n",
      "    response = self._send_and_cache(request, actions, cached_response, **kwargs)\n",
      "  File \"c:\\Users\\arkre\\AppData\\Local\\Programs\\Python\\Python310\\lib\\site-packages\\requests_cache\\session.py\", line 253, in _send_and_cache\n",
      "    response = super().send(request, **kwargs)\n",
      "  File \"c:\\Users\\arkre\\AppData\\Local\\Programs\\Python\\Python310\\lib\\site-packages\\fastf1\\req.py\", line 125, in send\n",
      "    lim.limit()\n",
      "  File \"c:\\Users\\arkre\\AppData\\Local\\Programs\\Python\\Python310\\lib\\site-packages\\fastf1\\req.py\", line 102, in limit\n",
      "    raise RateLimitExceededError(self._info)\n",
      "fastf1.req.RateLimitExceededError: ergast.com: 200 calls/h\n"
     ]
    },
    {
     "name": "stdout",
     "output_type": "stream",
     "text": [
      "Sakhir, Year: 2024\n"
     ]
    },
    {
     "name": "stderr",
     "output_type": "stream",
     "text": [
      "Request for URL https://ergast.com/api/f1/2024/2/results.json failed; using cached response\n",
      "Traceback (most recent call last):\n",
      "  File \"c:\\Users\\arkre\\AppData\\Local\\Programs\\Python\\Python310\\lib\\site-packages\\requests_cache\\session.py\", line 285, in _resend\n",
      "    response = self._send_and_cache(request, actions, cached_response, **kwargs)\n",
      "  File \"c:\\Users\\arkre\\AppData\\Local\\Programs\\Python\\Python310\\lib\\site-packages\\requests_cache\\session.py\", line 253, in _send_and_cache\n",
      "    response = super().send(request, **kwargs)\n",
      "  File \"c:\\Users\\arkre\\AppData\\Local\\Programs\\Python\\Python310\\lib\\site-packages\\fastf1\\req.py\", line 125, in send\n",
      "    lim.limit()\n",
      "  File \"c:\\Users\\arkre\\AppData\\Local\\Programs\\Python\\Python310\\lib\\site-packages\\fastf1\\req.py\", line 102, in limit\n",
      "    raise RateLimitExceededError(self._info)\n",
      "fastf1.req.RateLimitExceededError: ergast.com: 200 calls/h\n",
      "Request for URL https://ergast.com/api/f1/2024/2/laps/1.json failed; using cached response\n",
      "Traceback (most recent call last):\n",
      "  File \"c:\\Users\\arkre\\AppData\\Local\\Programs\\Python\\Python310\\lib\\site-packages\\requests_cache\\session.py\", line 285, in _resend\n",
      "    response = self._send_and_cache(request, actions, cached_response, **kwargs)\n",
      "  File \"c:\\Users\\arkre\\AppData\\Local\\Programs\\Python\\Python310\\lib\\site-packages\\requests_cache\\session.py\", line 253, in _send_and_cache\n",
      "    response = super().send(request, **kwargs)\n",
      "  File \"c:\\Users\\arkre\\AppData\\Local\\Programs\\Python\\Python310\\lib\\site-packages\\fastf1\\req.py\", line 125, in send\n",
      "    lim.limit()\n",
      "  File \"c:\\Users\\arkre\\AppData\\Local\\Programs\\Python\\Python310\\lib\\site-packages\\fastf1\\req.py\", line 102, in limit\n",
      "    raise RateLimitExceededError(self._info)\n",
      "fastf1.req.RateLimitExceededError: ergast.com: 200 calls/h\n"
     ]
    },
    {
     "name": "stdout",
     "output_type": "stream",
     "text": [
      "Jeddah, Year: 2024\n"
     ]
    },
    {
     "name": "stderr",
     "output_type": "stream",
     "text": [
      "Request for URL https://ergast.com/api/f1/2024/3/results.json failed; using cached response\n",
      "Traceback (most recent call last):\n",
      "  File \"c:\\Users\\arkre\\AppData\\Local\\Programs\\Python\\Python310\\lib\\site-packages\\requests_cache\\session.py\", line 285, in _resend\n",
      "    response = self._send_and_cache(request, actions, cached_response, **kwargs)\n",
      "  File \"c:\\Users\\arkre\\AppData\\Local\\Programs\\Python\\Python310\\lib\\site-packages\\requests_cache\\session.py\", line 253, in _send_and_cache\n",
      "    response = super().send(request, **kwargs)\n",
      "  File \"c:\\Users\\arkre\\AppData\\Local\\Programs\\Python\\Python310\\lib\\site-packages\\fastf1\\req.py\", line 125, in send\n",
      "    lim.limit()\n",
      "  File \"c:\\Users\\arkre\\AppData\\Local\\Programs\\Python\\Python310\\lib\\site-packages\\fastf1\\req.py\", line 102, in limit\n",
      "    raise RateLimitExceededError(self._info)\n",
      "fastf1.req.RateLimitExceededError: ergast.com: 200 calls/h\n",
      "Request for URL https://ergast.com/api/f1/2024/3/laps/1.json failed; using cached response\n",
      "Traceback (most recent call last):\n",
      "  File \"c:\\Users\\arkre\\AppData\\Local\\Programs\\Python\\Python310\\lib\\site-packages\\requests_cache\\session.py\", line 285, in _resend\n",
      "    response = self._send_and_cache(request, actions, cached_response, **kwargs)\n",
      "  File \"c:\\Users\\arkre\\AppData\\Local\\Programs\\Python\\Python310\\lib\\site-packages\\requests_cache\\session.py\", line 253, in _send_and_cache\n",
      "    response = super().send(request, **kwargs)\n",
      "  File \"c:\\Users\\arkre\\AppData\\Local\\Programs\\Python\\Python310\\lib\\site-packages\\fastf1\\req.py\", line 125, in send\n",
      "    lim.limit()\n",
      "  File \"c:\\Users\\arkre\\AppData\\Local\\Programs\\Python\\Python310\\lib\\site-packages\\fastf1\\req.py\", line 102, in limit\n",
      "    raise RateLimitExceededError(self._info)\n",
      "fastf1.req.RateLimitExceededError: ergast.com: 200 calls/h\n"
     ]
    },
    {
     "name": "stdout",
     "output_type": "stream",
     "text": [
      "Melbourne, Year: 2024\n"
     ]
    },
    {
     "name": "stderr",
     "output_type": "stream",
     "text": [
      "Request for URL https://ergast.com/api/f1/2024/4/results.json failed; using cached response\n",
      "Traceback (most recent call last):\n",
      "  File \"c:\\Users\\arkre\\AppData\\Local\\Programs\\Python\\Python310\\lib\\site-packages\\requests_cache\\session.py\", line 285, in _resend\n",
      "    response = self._send_and_cache(request, actions, cached_response, **kwargs)\n",
      "  File \"c:\\Users\\arkre\\AppData\\Local\\Programs\\Python\\Python310\\lib\\site-packages\\requests_cache\\session.py\", line 253, in _send_and_cache\n",
      "    response = super().send(request, **kwargs)\n",
      "  File \"c:\\Users\\arkre\\AppData\\Local\\Programs\\Python\\Python310\\lib\\site-packages\\fastf1\\req.py\", line 125, in send\n",
      "    lim.limit()\n",
      "  File \"c:\\Users\\arkre\\AppData\\Local\\Programs\\Python\\Python310\\lib\\site-packages\\fastf1\\req.py\", line 102, in limit\n",
      "    raise RateLimitExceededError(self._info)\n",
      "fastf1.req.RateLimitExceededError: ergast.com: 200 calls/h\n",
      "Request for URL https://ergast.com/api/f1/2024/4/laps/1.json failed; using cached response\n",
      "Traceback (most recent call last):\n",
      "  File \"c:\\Users\\arkre\\AppData\\Local\\Programs\\Python\\Python310\\lib\\site-packages\\requests_cache\\session.py\", line 285, in _resend\n",
      "    response = self._send_and_cache(request, actions, cached_response, **kwargs)\n",
      "  File \"c:\\Users\\arkre\\AppData\\Local\\Programs\\Python\\Python310\\lib\\site-packages\\requests_cache\\session.py\", line 253, in _send_and_cache\n",
      "    response = super().send(request, **kwargs)\n",
      "  File \"c:\\Users\\arkre\\AppData\\Local\\Programs\\Python\\Python310\\lib\\site-packages\\fastf1\\req.py\", line 125, in send\n",
      "    lim.limit()\n",
      "  File \"c:\\Users\\arkre\\AppData\\Local\\Programs\\Python\\Python310\\lib\\site-packages\\fastf1\\req.py\", line 102, in limit\n",
      "    raise RateLimitExceededError(self._info)\n",
      "fastf1.req.RateLimitExceededError: ergast.com: 200 calls/h\n"
     ]
    },
    {
     "name": "stdout",
     "output_type": "stream",
     "text": [
      "Suzuka, Year: 2024\n"
     ]
    },
    {
     "name": "stderr",
     "output_type": "stream",
     "text": [
      "Request for URL https://ergast.com/api/f1/2024/5/results.json failed; using cached response\n",
      "Traceback (most recent call last):\n",
      "  File \"c:\\Users\\arkre\\AppData\\Local\\Programs\\Python\\Python310\\lib\\site-packages\\requests_cache\\session.py\", line 285, in _resend\n",
      "    response = self._send_and_cache(request, actions, cached_response, **kwargs)\n",
      "  File \"c:\\Users\\arkre\\AppData\\Local\\Programs\\Python\\Python310\\lib\\site-packages\\requests_cache\\session.py\", line 253, in _send_and_cache\n",
      "    response = super().send(request, **kwargs)\n",
      "  File \"c:\\Users\\arkre\\AppData\\Local\\Programs\\Python\\Python310\\lib\\site-packages\\fastf1\\req.py\", line 125, in send\n",
      "    lim.limit()\n",
      "  File \"c:\\Users\\arkre\\AppData\\Local\\Programs\\Python\\Python310\\lib\\site-packages\\fastf1\\req.py\", line 102, in limit\n",
      "    raise RateLimitExceededError(self._info)\n",
      "fastf1.req.RateLimitExceededError: ergast.com: 200 calls/h\n",
      "Request for URL https://ergast.com/api/f1/2024/5/laps/1.json failed; using cached response\n",
      "Traceback (most recent call last):\n",
      "  File \"c:\\Users\\arkre\\AppData\\Local\\Programs\\Python\\Python310\\lib\\site-packages\\requests_cache\\session.py\", line 285, in _resend\n",
      "    response = self._send_and_cache(request, actions, cached_response, **kwargs)\n",
      "  File \"c:\\Users\\arkre\\AppData\\Local\\Programs\\Python\\Python310\\lib\\site-packages\\requests_cache\\session.py\", line 253, in _send_and_cache\n",
      "    response = super().send(request, **kwargs)\n",
      "  File \"c:\\Users\\arkre\\AppData\\Local\\Programs\\Python\\Python310\\lib\\site-packages\\fastf1\\req.py\", line 125, in send\n",
      "    lim.limit()\n",
      "  File \"c:\\Users\\arkre\\AppData\\Local\\Programs\\Python\\Python310\\lib\\site-packages\\fastf1\\req.py\", line 102, in limit\n",
      "    raise RateLimitExceededError(self._info)\n",
      "fastf1.req.RateLimitExceededError: ergast.com: 200 calls/h\n"
     ]
    },
    {
     "name": "stdout",
     "output_type": "stream",
     "text": [
      "Shanghai, Year: 2024\n"
     ]
    },
    {
     "name": "stderr",
     "output_type": "stream",
     "text": [
      "Request for URL https://ergast.com/api/f1/2024/6/results.json failed; using cached response\n",
      "Traceback (most recent call last):\n",
      "  File \"c:\\Users\\arkre\\AppData\\Local\\Programs\\Python\\Python310\\lib\\site-packages\\requests_cache\\session.py\", line 285, in _resend\n",
      "    response = self._send_and_cache(request, actions, cached_response, **kwargs)\n",
      "  File \"c:\\Users\\arkre\\AppData\\Local\\Programs\\Python\\Python310\\lib\\site-packages\\requests_cache\\session.py\", line 253, in _send_and_cache\n",
      "    response = super().send(request, **kwargs)\n",
      "  File \"c:\\Users\\arkre\\AppData\\Local\\Programs\\Python\\Python310\\lib\\site-packages\\fastf1\\req.py\", line 125, in send\n",
      "    lim.limit()\n",
      "  File \"c:\\Users\\arkre\\AppData\\Local\\Programs\\Python\\Python310\\lib\\site-packages\\fastf1\\req.py\", line 102, in limit\n",
      "    raise RateLimitExceededError(self._info)\n",
      "fastf1.req.RateLimitExceededError: ergast.com: 200 calls/h\n",
      "Request for URL https://ergast.com/api/f1/2024/6/laps/1.json failed; using cached response\n",
      "Traceback (most recent call last):\n",
      "  File \"c:\\Users\\arkre\\AppData\\Local\\Programs\\Python\\Python310\\lib\\site-packages\\requests_cache\\session.py\", line 285, in _resend\n",
      "    response = self._send_and_cache(request, actions, cached_response, **kwargs)\n",
      "  File \"c:\\Users\\arkre\\AppData\\Local\\Programs\\Python\\Python310\\lib\\site-packages\\requests_cache\\session.py\", line 253, in _send_and_cache\n",
      "    response = super().send(request, **kwargs)\n",
      "  File \"c:\\Users\\arkre\\AppData\\Local\\Programs\\Python\\Python310\\lib\\site-packages\\fastf1\\req.py\", line 125, in send\n",
      "    lim.limit()\n",
      "  File \"c:\\Users\\arkre\\AppData\\Local\\Programs\\Python\\Python310\\lib\\site-packages\\fastf1\\req.py\", line 102, in limit\n",
      "    raise RateLimitExceededError(self._info)\n",
      "fastf1.req.RateLimitExceededError: ergast.com: 200 calls/h\n"
     ]
    },
    {
     "name": "stdout",
     "output_type": "stream",
     "text": [
      "Miami, Year: 2024\n",
      "Weather data for Formula 1 races in 2022-2024 has been saved to Weather.csv\n"
     ]
    }
   ],
   "source": [
    "logging.getLogger('fastf1').setLevel(logging.CRITICAL)  # Use logging.INFO or logging.warning for more information\n",
    "\n",
    "# Given lists for years and number of rounds\n",
    "# years = [2018, 2019, 2020, 2021, 2022, 2023]\n",
    "# num_races = [22, 22, 18, 22, 23, 23]\n",
    "years = [2022, 2023, 2024]\n",
    "num_races = [23, 23, 7]\n",
    "\n",
    "# Initialize an empty DataFrame for weather\n",
    "weather = pd.DataFrame()\n",
    "\n",
    "# Loop through each year and number of races\n",
    "for year, num_race in zip(years, num_races):\n",
    "    # Initialize an empty DataFrame for each year\n",
    "    df = pd.DataFrame()\n",
    "    \n",
    "    # Get race data for each round\n",
    "    for x in range(1, num_race):\n",
    "        race_session = fastf1.get_session(year, x, 'R').event\n",
    "        df = pd.concat([df, pd.DataFrame([race_session])], ignore_index=True)\n",
    "    \n",
    "    # Get weather data for each race\n",
    "    for track in df['Location']:\n",
    "        race_session = fastf1.get_session(year, track, 'R')\n",
    "        race_session.load()  # Load the data before accessing it\n",
    "        weather_data = race_session.weather_data\n",
    "        round_number = df.loc[df['Location'] == track, 'RoundNumber'].values[0]  # Get the round number for the race\n",
    "        weather_data['Round Number'] = round_number\n",
    "        weather_data['Year'] = year\n",
    "        weather = pd.concat([weather, weather_data])\n",
    "        print(f\"{track}, Year: {year}\")\n",
    "\n",
    "# Create weather_data directory\n",
    "os.makedirs('weather_data', exist_ok=True)\n",
    "# Save the combined weather data to a CSV file\n",
    "weather.to_csv(f'weather_data/Weather.csv', encoding='utf-8', index=False)\n",
    "\n",
    "# Print a success message\n",
    "print(f\"Weather data for Formula 1 races in 2022-2024 has been saved to Weather.csv\")"
   ]
  },
  {
   "cell_type": "code",
   "execution_count": 10,
   "metadata": {},
   "outputs": [],
   "source": [
    "df = pd.read_csv('weather_data/Weather.csv')\n",
    "df['Rainfall'] = df['Rainfall'].astype(int)\n",
    "\n",
    "summary_df = df.groupby(['Year', 'Round Number']).agg(\n",
    "    AvgAirTemp=('AirTemp', 'mean'),\n",
    "    AvgHumidity=('Humidity', 'mean'),\n",
    "    AvgPressure=('Pressure', 'mean'),\n",
    "    TotalRainfall=('Rainfall', 'sum'),\n",
    "    AvgTrackTemp=('TrackTemp', 'mean'),\n",
    "    AvgWindDirection=('WindDirection', 'mean'),\n",
    "    AvgWindSpeed=('WindSpeed', 'mean')\n",
    ").reset_index()\n",
    "\n",
    "summary_df = summary_df.round(2)\n",
    "summary_df = summary_df.sort_values(by=['Year', 'Round Number'])\n",
    "summary_df.to_csv('weather_data/Weather_Summary.csv', index=False)"
   ]
  }
 ],
 "metadata": {
  "kernelspec": {
   "display_name": "Python 3",
   "language": "python",
   "name": "python3"
  },
  "language_info": {
   "codemirror_mode": {
    "name": "ipython",
    "version": 3
   },
   "file_extension": ".py",
   "mimetype": "text/x-python",
   "name": "python",
   "nbconvert_exporter": "python",
   "pygments_lexer": "ipython3",
   "version": "3.10.4"
  }
 },
 "nbformat": 4,
 "nbformat_minor": 2
}
